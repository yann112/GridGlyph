{
 "cells": [
  {
   "cell_type": "code",
   "execution_count": 2,
   "id": "fdeab6b4",
   "metadata": {},
   "outputs": [],
   "source": [
    "json_file = \"/workspaces/arcprize2025/datas/arc-agi_training_challenges.json\""
   ]
  },
  {
   "cell_type": "code",
   "execution_count": 14,
   "id": "090cf1b4",
   "metadata": {},
   "outputs": [],
   "source": [
    "import json\n",
    "import matplotlib.pyplot as plt\n",
    "import numpy as np\n",
    "\n",
    "with open(json_file, 'r') as file:\n",
    "    data = json.load(file)\n",
    "\n",
    "def plot_grid(grid, title=\"\"):\n",
    "    \"\"\"\n",
    "    Plots a single 2D grid using matplotlib.\n",
    "    \n",
    "    Parameters:\n",
    "    - grid: List of lists of integers.\n",
    "    - title: Optional title for the plot.\n",
    "    \"\"\"\n",
    "    grid_array = np.array(grid)\n",
    "    plt.figure(figsize=(2, 2))\n",
    "    plt.imshow(grid_array, cmap='tab20', interpolation='nearest')\n",
    "    plt.title(title)\n",
    "    plt.axis('off')\n",
    "    plt.show()"
   ]
  },
  {
   "cell_type": "code",
   "execution_count": 19,
   "id": "468e41d8",
   "metadata": {},
   "outputs": [],
   "source": [
    "example = data['00576224'][\"train\"]"
   ]
  },
  {
   "cell_type": "code",
   "execution_count": 20,
   "id": "26adcab4",
   "metadata": {},
   "outputs": [
    {
     "ename": "TypeError",
     "evalue": "list indices must be integers or slices, not str",
     "output_type": "error",
     "traceback": [
      "\u001b[31m---------------------------------------------------------------------------\u001b[39m",
      "\u001b[31mTypeError\u001b[39m                                 Traceback (most recent call last)",
      "\u001b[36mCell\u001b[39m\u001b[36m \u001b[39m\u001b[32mIn[20]\u001b[39m\u001b[32m, line 1\u001b[39m\n\u001b[32m----> \u001b[39m\u001b[32m1\u001b[39m plot_grid(\u001b[43mexample\u001b[49m\u001b[43m[\u001b[49m\u001b[33;43m\"\u001b[39;49m\u001b[33;43minput\u001b[39;49m\u001b[33;43m\"\u001b[39;49m\u001b[43m]\u001b[49m, title=\u001b[33m\"\u001b[39m\u001b[33mInput Grid\u001b[39m\u001b[33m\"\u001b[39m)\n\u001b[32m      2\u001b[39m plot_grid(example[\u001b[33m\"\u001b[39m\u001b[33moutput\u001b[39m\u001b[33m\"\u001b[39m], title=\u001b[33m\"\u001b[39m\u001b[33mOutput Grid\u001b[39m\u001b[33m\"\u001b[39m)\n",
      "\u001b[31mTypeError\u001b[39m: list indices must be integers or slices, not str"
     ]
    }
   ],
   "source": [
    "plot_grid(example[\"input\"], title=\"Input Grid\")\n",
    "plot_grid(example[\"output\"], title=\"Output Grid\")"
   ]
  },
  {
   "cell_type": "code",
   "execution_count": 22,
   "id": "5d312f9a",
   "metadata": {},
   "outputs": [
    {
     "data": {
      "text/plain": [
       "[{'input': [[7, 9], [4, 3]],\n",
       "  'output': [[7, 9, 7, 9, 7, 9],\n",
       "   [4, 3, 4, 3, 4, 3],\n",
       "   [9, 7, 9, 7, 9, 7],\n",
       "   [3, 4, 3, 4, 3, 4],\n",
       "   [7, 9, 7, 9, 7, 9],\n",
       "   [4, 3, 4, 3, 4, 3]]},\n",
       " {'input': [[8, 6], [6, 4]],\n",
       "  'output': [[8, 6, 8, 6, 8, 6],\n",
       "   [6, 4, 6, 4, 6, 4],\n",
       "   [6, 8, 6, 8, 6, 8],\n",
       "   [4, 6, 4, 6, 4, 6],\n",
       "   [8, 6, 8, 6, 8, 6],\n",
       "   [6, 4, 6, 4, 6, 4]]}]"
      ]
     },
     "execution_count": 22,
     "metadata": {},
     "output_type": "execute_result"
    }
   ],
   "source": [
    "example"
   ]
  },
  {
   "cell_type": "markdown",
   "id": "eeec0a12",
   "metadata": {},
   "source": []
  },
  {
   "cell_type": "code",
   "execution_count": null,
   "id": "545256e7",
   "metadata": {},
   "outputs": [],
   "source": []
  }
 ],
 "metadata": {
  "kernelspec": {
   "display_name": "Python 3",
   "language": "python",
   "name": "python3"
  },
  "language_info": {
   "codemirror_mode": {
    "name": "ipython",
    "version": 3
   },
   "file_extension": ".py",
   "mimetype": "text/x-python",
   "name": "python",
   "nbconvert_exporter": "python",
   "pygments_lexer": "ipython3",
   "version": "3.12.1"
  }
 },
 "nbformat": 4,
 "nbformat_minor": 5
}
