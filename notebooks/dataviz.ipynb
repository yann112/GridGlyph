{
 "cells": [
  {
   "cell_type": "code",
   "execution_count": 3,
   "id": "fdeab6b4",
   "metadata": {
    "metadata": {}
   },
   "outputs": [],
   "source": [
    "# json_file = \"/workspaces/arcprize2025/datas/arc-agi_training_challenges.json\"\n",
    "# json_file = r\"C:\\Users\\UT00YBG3\\Documents\\arcprize2025\\datas\\arc-agi_training_challenges.json\"\n",
    "json_file = \"/home/yann/ssd_storage/python/arcprize2025/datas/arc-agi_training_challenges.json\""
   ]
  },
  {
   "cell_type": "code",
   "execution_count": 4,
   "id": "090cf1b4",
   "metadata": {
    "metadata": {}
   },
   "outputs": [],
   "source": [
    "import json\n",
    "import matplotlib.pyplot as plt\n",
    "import numpy as np\n",
    "\n",
    "with open(json_file, 'r') as file:\n",
    "    data = json.load(file)\n",
    "\n",
    "def plot_grid(grid, title=\"\"):\n",
    "    \"\"\"\n",
    "    Plots a single 2D grid using matplotlib.\n",
    "    \n",
    "    Parameters:\n",
    "    - grid: List of lists of integers.\n",
    "    - title: Optional title for the plot.\n",
    "    \"\"\"\n",
    "    grid_array = np.array(grid)\n",
    "    plt.figure(figsize=(2, 2))\n",
    "    plt.imshow(grid_array, cmap='tab20', interpolation='nearest')\n",
    "    plt.title(title)\n",
    "    plt.axis('off')\n",
    "    plt.show()"
   ]
  },
  {
   "cell_type": "code",
   "execution_count": 5,
   "id": "468e41d8",
   "metadata": {},
   "outputs": [
    {
     "data": {
      "text/plain": [
       "{'input': [[8, 6], [6, 4]],\n",
       " 'output': [[8, 6, 8, 6, 8, 6],\n",
       "  [6, 4, 6, 4, 6, 4],\n",
       "  [6, 8, 6, 8, 6, 8],\n",
       "  [4, 6, 4, 6, 4, 6],\n",
       "  [8, 6, 8, 6, 8, 6],\n",
       "  [6, 4, 6, 4, 6, 4]]}"
      ]
     },
     "execution_count": 5,
     "metadata": {},
     "output_type": "execute_result"
    }
   ],
   "source": [
    "example = data['00576224'][\"train\"][1]\n",
    "example"
   ]
  },
  {
   "cell_type": "code",
   "execution_count": 6,
   "id": "8a0dc012",
   "metadata": {},
   "outputs": [
    {
     "data": {
      "text/plain": [
       "{'train': [{'input': [[7, 9], [4, 3]],\n",
       "   'output': [[7, 9, 7, 9, 7, 9],\n",
       "    [4, 3, 4, 3, 4, 3],\n",
       "    [9, 7, 9, 7, 9, 7],\n",
       "    [3, 4, 3, 4, 3, 4],\n",
       "    [7, 9, 7, 9, 7, 9],\n",
       "    [4, 3, 4, 3, 4, 3]]},\n",
       "  {'input': [[8, 6], [6, 4]],\n",
       "   'output': [[8, 6, 8, 6, 8, 6],\n",
       "    [6, 4, 6, 4, 6, 4],\n",
       "    [6, 8, 6, 8, 6, 8],\n",
       "    [4, 6, 4, 6, 4, 6],\n",
       "    [8, 6, 8, 6, 8, 6],\n",
       "    [6, 4, 6, 4, 6, 4]]}],\n",
       " 'test': [{'input': [[3, 2], [7, 8]]}]}"
      ]
     },
     "execution_count": 6,
     "metadata": {},
     "output_type": "execute_result"
    }
   ],
   "source": [
    "data['00576224']"
   ]
  },
  {
   "cell_type": "code",
   "execution_count": 7,
   "id": "26adcab4",
   "metadata": {
    "metadata": {}
   },
   "outputs": [
    {
     "data": {
      "image/png": "[encoded data removed]",
      "text/plain": [
       "<Figure size 200x200 with 1 Axes>"
      ]
     },
     "metadata": {},
     "output_type": "display_data"
    },
    {
     "data": {
      "image/png": "[encoded data removed]",
      "text/plain": [
       "<Figure size 200x200 with 1 Axes>"
      ]
     },
     "metadata": {},
     "output_type": "display_data"
    }
   ],
   "source": [
    "plot_grid(example[\"input\"], title=\"Input Grid\")\n",
    "plot_grid(example[\"output\"], title=\"Output Grid\")"
   ]
  },
  {
   "cell_type": "code",
   "execution_count": 8,
   "id": "5d312f9a",
   "metadata": {},
   "outputs": [],
   "source": [
    "import sys\n",
    "sys.path.append(\"/workspaces/arcprize2025/sources\")"
   ]
  },
  {
   "cell_type": "markdown",
   "id": "eeec0a12",
   "metadata": {},
   "source": []
  },
  {
   "cell_type": "code",
   "execution_count": 9,
   "id": "545256e7",
   "metadata": {},
   "outputs": [
    {
     "name": "stderr",
     "output_type": "stream",
     "text": [
      "Skipping mask-based pruning due to shape mismatch.\n"
     ]
    }
   ],
   "source": [
    "from tools.program_synthesizer_tool import ProgramSynthesizerTool\n",
    "from core.llm import OpenRouterClient\n",
    "from core.synthesis_engine import SynthesisEngine\n",
    "from tools.grid_analyzer_tool import GridAnalyzerTool\n",
    "\n",
    "analysis_tool = GridAnalyzerTool()\n",
    "synth_tool = ProgramSynthesizerTool(llm=OpenRouterClient(),synthesizer=SynthesisEngine())\n",
    "\n",
    "input_grid = example[\"input\"]\n",
    "output_grid = example[\"output\"]\n",
    "\n",
    "\n",
    "analysis = analysis_tool.run({\"input_grid\": input_grid, \"output_grid\": output_grid})\n",
    "result = synth_tool._run(input_grid, output_grid, analysis)"
   ]
  },
  {
   "cell_type": "code",
   "execution_count": 12,
   "id": "f0c83031",
   "metadata": {},
   "outputs": [
    {
     "name": "stdout",
     "output_type": "stream",
     "text": [
      "The main transformations that led from the input grid to the output grid are centered around the repetition of the input grid's pattern to form a larger, more extensive grid. Here's a breakdown of the process:\n",
      "\n",
      "1. **Input Grid Structure**:\n",
      "   - The input grid consists of 2 rows and 2 columns, totaling 4 cells.\n",
      "   - The values in the input grid are:\n",
      "     ```\n",
      "     7 9\n",
      "     4 3\n",
      "     ```\n",
      "\n",
      "2. **Output Grid Structure**:\n",
      "   - The output grid has a size of 6 rows by 6 columns, totaling 36 cells.\n",
      "\n",
      "3. **Output Grid Formulation**:\n",
      "   - The output grid is formed by repeating the 2x2 input pattern in both the horizontal and vertical directions to create a 6x6 grid.\n",
      "   - Specifically, the 2x2 block:\n",
      "     ```\n",
      "     7 9\n",
      "     4 3\n",
      "     ```\n",
      "    is repeated to fill the entire 6x6 grid. This results in a repetitive, tiled pattern:\n",
      "    ```\n",
      "    7 9 7 9 7 9\n",
      "    4 3 4 3 4 3\n",
      "    7 9 7 9 7 9\n",
      "    4 3 4 3 4 3\n",
      "    7 9 7 9 7 9\n",
      "    4 3 4 3 4 3\n",
      "    ```\n",
      "\n",
      "4. **Features and Analysis**:\n",
      "   - **Shape Features**: The input grid is a 2x2 square. The output grid has an aspect ratio of 1.0, forming a much larger 6x6 square.\n",
      "   - **Density Feature**: The foreground ratio of the input grid is 0.75, and this ratio is preserved in the output grid.\n",
      "   - **Patterns**:\n",
      "     - There is no inherent symmetry or repetition noticed within the input itself, but this repetition is a straightforward tiling process.\n",
      "   - **Component Stats**: The input has just one continuous component filling all 4 cells; that pattern is scaled up to the entire output, maintaining the same aspect ratio but scaling the average area to 20.5.\n",
      "   - **Relational Features**:\n",
      "     - The dimensions of the output grid are exactly 3 times the dimensions of the input grid both in rows and columns, leading to an area that is 9 times larger.\n",
      "     - The colors of the output grid are entirely derived from the input grid, maintaining the same set of values.\n",
      "     - The density transformation retains the 0.75 foreground/background ratio throughout this grid repetition.\n",
      "\n",
      "5. **Suggested Transform**: The suggested transform with the highest confidence (0.9) is \"RepeatGrid\". This transform is appropriate because it accurately describes the process of tiling the 2x2 input pattern to form the larger 6x6 output grid.\n",
      "\n",
      "In summary, the key transformation is the repetition of the input 2x2 pattern to create a larger 6x6 grid. This process follows the dimensional and color constraints provided by the input grid, resulting in a perfectly tiled output grid.\n"
     ]
    }
   ],
   "source": [
    "print(analysis)"
   ]
  },
  {
   "cell_type": "code",
   "execution_count": 11,
   "id": "5eefabe5",
   "metadata": {},
   "outputs": [
    {
     "data": {
      "text/plain": [
       "{'success': True,\n",
       " 'result_grid': [[7, 9, 7, 9, 7, 9],\n",
       "  [4, 3, 4, 3, 4, 3],\n",
       "  [7, 9, 7, 9, 7, 9],\n",
       "  [4, 3, 4, 3, 4, 3],\n",
       "  [7, 9, 7, 9, 7, 9],\n",
       "  [4, 3, 4, 3, 4, 3]],\n",
       " 'program': '<core.dsl_nodes.RepeatGrid object at 0x7350238ab5f0>',\n",
       " 'score': 0.6666666666666666,\n",
       " 'alternatives': []}"
      ]
     },
     "execution_count": 11,
     "metadata": {},
     "output_type": "execute_result"
    }
   ],
   "source": [
    "result"
   ]
  },
  {
   "cell_type": "code",
   "execution_count": null,
   "id": "7ee55336",
   "metadata": {},
   "outputs": [],
   "source": []
  }
 ],
 "metadata": {
  "kernelspec": {
   "display_name": "Python 3",
   "language": "python",
   "name": "python3"
  },
  "language_info": {
   "codemirror_mode": {
    "name": "ipython",
    "version": 3
   },
   "file_extension": ".py",
   "mimetype": "text/x-python",
   "name": "python",
   "nbconvert_exporter": "python",
   "pygments_lexer": "ipython3",
   "version": "3.12.7"
  }
 },
 "nbformat": 4,
 "nbformat_minor": 5
}
