{
 "cells": [
  {
   "cell_type": "code",
   "execution_count": 5,
   "id": "fdeab6b4",
   "metadata": {},
   "outputs": [],
   "source": [
    "json_file = \"/workspaces/arcprize2025/datas/arc-agi_training_challenges.json\"\n",
    "# json_file = r\"C:\\Users\\UT00YBG3\\Documents\\arcprize2025\\datas\\arc-agi_training_challenges.json\""
   ]
  },
  {
   "cell_type": "code",
   "execution_count": 6,
   "id": "090cf1b4",
   "metadata": {},
   "outputs": [],
   "source": [
    "import json\n",
    "import matplotlib.pyplot as plt\n",
    "import numpy as np\n",
    "\n",
    "with open(json_file, 'r') as file:\n",
    "    data = json.load(file)\n",
    "\n",
    "def plot_grid(grid, title=\"\"):\n",
    "    \"\"\"\n",
    "    Plots a single 2D grid using matplotlib.\n",
    "    \n",
    "    Parameters:\n",
    "    - grid: List of lists of integers.\n",
    "    - title: Optional title for the plot.\n",
    "    \"\"\"\n",
    "    grid_array = np.array(grid)\n",
    "    plt.figure(figsize=(2, 2))\n",
    "    plt.imshow(grid_array, cmap='tab20', interpolation='nearest')\n",
    "    plt.title(title)\n",
    "    plt.axis('off')\n",
    "    plt.show()"
   ]
  },
  {
   "cell_type": "code",
   "execution_count": 9,
   "id": "468e41d8",
   "metadata": {},
   "outputs": [
    {
     "data": {
      "text/plain": [
       "{'input': [[7, 9], [4, 3]],\n",
       " 'output': [[7, 9, 7, 9, 7, 9],\n",
       "  [4, 3, 4, 3, 4, 3],\n",
       "  [9, 7, 9, 7, 9, 7],\n",
       "  [3, 4, 3, 4, 3, 4],\n",
       "  [7, 9, 7, 9, 7, 9],\n",
       "  [4, 3, 4, 3, 4, 3]]}"
      ]
     },
     "execution_count": 9,
     "metadata": {},
     "output_type": "execute_result"
    }
   ],
   "source": [
    "example = data['00576224'][\"train\"][0]\n",
    "example"
   ]
  },
  {
   "cell_type": "code",
   "execution_count": 10,
   "id": "8a0dc012",
   "metadata": {},
   "outputs": [
    {
     "data": {
      "text/plain": [
       "{'train': [{'input': [[7, 9], [4, 3]],\n",
       "   'output': [[7, 9, 7, 9, 7, 9],\n",
       "    [4, 3, 4, 3, 4, 3],\n",
       "    [9, 7, 9, 7, 9, 7],\n",
       "    [3, 4, 3, 4, 3, 4],\n",
       "    [7, 9, 7, 9, 7, 9],\n",
       "    [4, 3, 4, 3, 4, 3]]},\n",
       "  {'input': [[8, 6], [6, 4]],\n",
       "   'output': [[8, 6, 8, 6, 8, 6],\n",
       "    [6, 4, 6, 4, 6, 4],\n",
       "    [6, 8, 6, 8, 6, 8],\n",
       "    [4, 6, 4, 6, 4, 6],\n",
       "    [8, 6, 8, 6, 8, 6],\n",
       "    [6, 4, 6, 4, 6, 4]]}],\n",
       " 'test': [{'input': [[3, 2], [7, 8]]}]}"
      ]
     },
     "execution_count": 10,
     "metadata": {},
     "output_type": "execute_result"
    }
   ],
   "source": [
    "data['00576224']"
   ]
  },
  {
   "cell_type": "code",
   "execution_count": 8,
   "id": "26adcab4",
   "metadata": {},
   "outputs": [
    {
     "data": {
      "image/png": "[encoded data removed]",
      "text/plain": [
       "<Figure size 200x200 with 1 Axes>"
      ]
     },
     "metadata": {},
     "output_type": "display_data"
    },
    {
     "data": {
      "image/png": "[encoded data removed]",
      "text/plain": [
       "<Figure size 200x200 with 1 Axes>"
      ]
     },
     "metadata": {},
     "output_type": "display_data"
    }
   ],
   "source": [
    "plot_grid(example[\"input\"], title=\"Input Grid\")\n",
    "plot_grid(example[\"output\"], title=\"Output Grid\")"
   ]
  },
  {
   "cell_type": "code",
   "execution_count": 24,
   "id": "5d312f9a",
   "metadata": {},
   "outputs": [
    {
     "data": {
      "image/png": "[encoded data removed]",
      "text/plain": [
       "<Figure size 200x200 with 1 Axes>"
      ]
     },
     "metadata": {},
     "output_type": "display_data"
    },
    {
     "data": {
      "image/png": "[encoded data removed]",
      "text/plain": [
       "<Figure size 200x200 with 1 Axes>"
      ]
     },
     "metadata": {},
     "output_type": "display_data"
    },
    {
     "name": "stdout",
     "output_type": "stream",
     "text": [
      "Input grid shape: (2, 2)\n",
      "Output grid shape: (6, 6)\n",
      "Input grid:\n",
      " [[7 9]\n",
      " [4 3]]\n",
      "Output grid:\n",
      " [[7 9 7 9 7 9]\n",
      " [4 3 4 3 4 3]\n",
      " [9 7 9 7 9 7]\n",
      " [3 4 3 4 3 4]\n",
      " [7 9 7 9 7 9]\n",
      " [4 3 4 3 4 3]]\n"
     ]
    }
   ],
   "source": [
    "import json\n",
    "import matplotlib.pyplot as plt\n",
    "import numpy as np\n",
    "from pathlib import Path\n",
    "\n",
    "# === Load ARC JSON Dataset ===\n",
    "json_file = Path(r\"C:\\Users\\UT00YBG3\\Documents\\arcprize2025\\datas\\arc-agi_training_challenges.json\")\n",
    "\n",
    "with open(json_file, 'r') as file:\n",
    "    arc_dataset = json.load(file)\n",
    "\n",
    "# === Utility to Plot a Grid ===\n",
    "def plot_grid(grid: list[list[int]], title: str = \"\") -> None:\n",
    "    \"\"\"Plots a single 2D grid using matplotlib.\n",
    "\n",
    "    Args:\n",
    "        grid (list[list[int]]): A 2D grid of integers.\n",
    "        title (str): Title to display above the grid.\n",
    "    \"\"\"\n",
    "    grid_array = np.array(grid)\n",
    "    plt.figure(figsize=(2, 2))\n",
    "    plt.imshow(grid_array, cmap=\"tab20\", interpolation=\"nearest\")\n",
    "    plt.title(title)\n",
    "    plt.axis(\"off\")\n",
    "    plt.show()\n",
    "\n",
    "# === Choose a Puzzle to Run ===\n",
    "puzzle_id = \"00576224\"\n",
    "puzzle_data = arc_dataset[puzzle_id]\n",
    "example = puzzle_data[\"train\"][0]\n",
    "\n",
    "input_grid = np.array(example[\"input\"])\n",
    "output_grid = np.array(example[\"output\"])\n",
    "\n",
    "# === Visualize Input and Output Grids ===\n",
    "plot_grid(input_grid, title=f\"{puzzle_id} - Input Grid\")\n",
    "plot_grid(output_grid, title=f\"{puzzle_id} - Output Grid\")\n",
    "\n",
    "# === Preview Shapes and Grids ===\n",
    "print(\"Input grid shape:\", input_grid.shape)\n",
    "print(\"Output grid shape:\", output_grid.shape)\n",
    "print(\"Input grid:\\n\", input_grid)\n",
    "print(\"Output grid:\\n\", output_grid)\n"
   ]
  },
  {
   "cell_type": "markdown",
   "id": "eeec0a12",
   "metadata": {},
   "source": []
  },
  {
   "cell_type": "code",
   "execution_count": 27,
   "id": "545256e7",
   "metadata": {},
   "outputs": [
    {
     "ename": "ImportError",
     "evalue": "attempted relative import with no known parent package",
     "output_type": "error",
     "traceback": [
      "\u001b[1;31m---------------------------------------------------------------------------\u001b[0m",
      "\u001b[1;31mImportError\u001b[0m                               Traceback (most recent call last)",
      "Cell \u001b[1;32mIn[27], line 4\u001b[0m\n\u001b[0;32m      1\u001b[0m \u001b[38;5;28;01mimport\u001b[39;00m \u001b[38;5;21;01mnumpy\u001b[39;00m \u001b[38;5;28;01mas\u001b[39;00m \u001b[38;5;21;01mnp\u001b[39;00m\n\u001b[0;32m      2\u001b[0m \u001b[38;5;28;01mimport\u001b[39;00m \u001b[38;5;21;01mlogging\u001b[39;00m\n\u001b[1;32m----> 4\u001b[0m \u001b[38;5;28;01mfrom\u001b[39;00m \u001b[38;5;21;01m.\u001b[39;00m\u001b[38;5;21;01msources\u001b[39;00m\u001b[38;5;21;01m.\u001b[39;00m\u001b[38;5;21;01msynthesis_engine\u001b[39;00m \u001b[38;5;28;01mimport\u001b[39;00m SynthesisEngine\n",
      "\u001b[1;31mImportError\u001b[0m: attempted relative import with no known parent package"
     ]
    }
   ],
   "source": [
    "import numpy as np\n",
    "import logging\n",
    "import sys\n",
    "from pathlib import Path\n",
    "\n",
    "sys.path.append()\n",
    "\n",
    "from .sources.synthesis_engine import SynthesisEngine"
   ]
  },
  {
   "cell_type": "code",
   "execution_count": null,
   "id": "f0c83031",
   "metadata": {},
   "outputs": [],
   "source": []
  }
 ],
 "metadata": {
  "kernelspec": {
   "display_name": "Python 3",
   "language": "python",
   "name": "python3"
  },
  "language_info": {
   "codemirror_mode": {
    "name": "ipython",
    "version": 3
   },
   "file_extension": ".py",
   "mimetype": "text/x-python",
   "name": "python",
   "nbconvert_exporter": "python",
   "pygments_lexer": "ipython3",
   "version": "3.12.1"
  }
 },
 "nbformat": 4,
 "nbformat_minor": 5
}
