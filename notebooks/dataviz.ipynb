{
 "cells": [
  {
   "cell_type": "code",
   "execution_count": 1,
   "id": "fdeab6b4",
   "metadata": {
    "metadata": {}
   },
   "outputs": [],
   "source": [
    "# json_file = \"/workspaces/arcprize2025/datas/arc-agi_training_challenges.json\"\n",
    "# json_file = r\"C:\\Users\\UT00YBG3\\Documents\\arcprize2025\\datas\\arc-agi_training_challenges.json\"\n",
    "json_file = \"/home/yann/ssd_storage/python/arcprize2025/datas/arc-agi_training_challenges.json\""
   ]
  },
  {
   "cell_type": "code",
   "execution_count": 2,
   "id": "090cf1b4",
   "metadata": {
    "metadata": {}
   },
   "outputs": [],
   "source": [
    "import json\n",
    "import matplotlib.pyplot as plt\n",
    "import numpy as np\n",
    "\n",
    "with open(json_file, 'r') as file:\n",
    "    data = json.load(file)\n",
    "\n",
    "def plot_grid(grid, title=\"\"):\n",
    "    \"\"\"\n",
    "    Plots a single 2D grid using matplotlib.\n",
    "    \n",
    "    Parameters:\n",
    "    - grid: List of lists of integers.\n",
    "    - title: Optional title for the plot.\n",
    "    \"\"\"\n",
    "    grid_array = np.array(grid)\n",
    "    plt.figure(figsize=(2, 2))\n",
    "    plt.imshow(grid_array, cmap='tab20', interpolation='nearest')\n",
    "    plt.title(title)\n",
    "    plt.axis('off')\n",
    "    plt.show()"
   ]
  },
  {
   "cell_type": "code",
   "execution_count": 3,
   "id": "308d5dc5",
   "metadata": {
    "metadata": {}
   },
   "outputs": [
    {
     "data": {
      "text/plain": [
       "dict_keys(['00576224', '007bbfb7', '009d5c81', '00d62c1b', '00dbd492', '017c7c7b', '025d127b', '03560426', '045e512c', '0520fde7', '05269061', '05a7bcf2', '05f2a901', '0607ce86', '0692e18c', '06df4c85', '070dd51e', '08ed6ac7', '09629e4f', '0962bcdd', '09c534e7', '0a1d4ef5', '0a2355a6', '0a938d79', '0b148d64', '0b17323b', '0bb8deee', '0becf7df', '0c786b71', '0c9aba6e', '0ca9ddb6', '0d3d703e', '0d87d2a6', '0e206a2e', '0e671a1a', '0f63c0b9', '103eff5b', '10fcaaa3', '11852cab', '1190bc91', '1190e5a7', '11dc524f', '11e1fe23', '12422b43', '12997ef3', '12eac192', '13713586', '137eaa0f', '137f0df0', '13f06aa5', '140c817e', '14754a24', '1478ab18', '14b8e18c', '150deff5', '15113be4', '15660dd6', '15663ba9', '15696249', '17829a00', '178fcbfb', '17b80ad2', '17b866bd', '17cae0c1', '18286ef8', '182e5d0f', '18419cfa', '18447a8d', '184a9768', '195ba7dc', '1990f7a8', '19bb5feb', '1a07d186', '1a244afd', '1a2e2828', '1a6449f1', '1acc24af', '1b2d62fb', '1b59e163', '1b60fb0c', '1b8318e3', '1be83260', '1bfc4729', '1c02dbbe', '1c0d0a4b', '1c56ad9f', '1c786137', '1caeab9d', '1cf80156', '1d0a4b61', '1d398264', '1d61978c', '1da012fc', '1e0a9b12', '1e32b0e9', '1e5d6875', '1e81d6f9', '1efba499', '1f0c79e5', '1f642eb9', '1f85a75f', '1f876c06', '1fad071e', '2013d3e2', '2037f2c7', '2072aba6', '20818e16', '20981f0e', '20fb2937', '212895b5', '21f83797', '2204b7a8', '22168020', '22208ba4', '22233c11', '22425bda', '22806e14', '2281f1f4', '228f6490', '22a4bbc2', '22eb0ac0', '230f2e48', '234bbc79', '23581191', '239be575', '23b5c85d', '25094a63', '252143c9', '253bf280', '2546ccf6', '256b0a75', '25c199f5', '25d487eb', '25d8a9c8', '25e02866', '25ff71a9', '2601afb7', '264363fd', '2685904e', '2697da3f', '272f95fa', '2753e76c', '278e5215', '27a28665', '27a77e38', '27f8ce4f', '281123b4', '28bf18c6', '28e73c20', '292dd178', '29623171', '29700607', '29c11459', '2a28add5', '2a5f8217', '2b01abd0', '2b9ef948', '2bcee788', '2bee17df', '2c0b0aff', '2c608aff', '2c737e39', '2ccd9fef', '2dc579da', '2dd70a9a', '2de01db2', '2dee498d', '2e65ae53', '2f0c5170', '2f767503', '2faf500b', '305b1341', '30f42897', '310f3251', '3194b014', '319f2597', '31aa019c', '31adaf00', '31d5ba1a', '320afe60', '321b1fc6', '32597951', '32e9702f', '33067df9', '332202d5', '332efdb3', '3345333e', '337b420f', '3391f8c0', '33b52de3', '3428a4f5', '342ae2ed', '342dd610', '3490cc26', '34b99a2b', '34cfa167', '351d6448', '358ba94e', '3618c87e', '363442ee', '36d67576', '36fdfd69', '37ce87bb', '37d3e8b2', '3906de3d', '396d80d7', '3979b1a8', '39a8645d', '39e1d7f9', '3a301edc', '3aa6fb7a', '3ac3eb23', '3ad05f52', '3af2c5a8', '3b4c2228', '3bd292e8', '3bd67248', '3bdb4ada', '3befdf3e', '3c9b0459', '3cd86f4f', '3d31c5b3', '3d588dc9', '3d6c6e23', '3de23699', '3e980e27', '3eda0437', '3ee1011a', '3f23242b', '3f7978a0', '4093f84a', '40f6cd08', '412b6263', '414297c0', '41ace6b5', '41e4d17e', '423a55dc', '4258a5f9', '4290ef0e', '42918530', '42a15761', '42a50994', '42f14c03', '42f83767', '4347f46a', '4364c1c4', '444801d8', '445eab21', '447fd412', '44d8ac46', '44f52bb0', '4522001f', '456873bc', '45737921', '458e3a53', '45bbe264', '4612dd53', '46442a0e', '465b7d93', '469497ad', '46c35fc7', '46f33fce', '470c91de', '47c1f68c', '48131b3c', '484b58aa', '4852f2fa', '48634b99', '48d8fb45', '48f8583b', '4938f0c2', '494ef9d7', '496994bd', '49d1d64f', '4a1cacc2', '4acc7107', '4b6b68e5', '4be741c5', '4c177718', '4c4377d9', '4c5c2cf0', '4cd1b7b2', '4df5b0ae', '4e45f183', '4e469f39', '4e7e0eb9', '4f537728', '4ff4c9da', '5034a0b5', '505fff84', '506d28a5', '50846271', '508bd3b6', '50a16a69', '50aad11f', '50c07299', '50cb2852', '50f325b5', '5117e062', '5168d44c', '516b51b7', '5207a7b5', '522fdd07', '52364a65', '5289ad53', '52df9849', '52fd389e', '538b439f', '539a4f51', '53b68214', '543a7ed5', '54d82841', '54d9e175', '54db823b', '54dc2872', '55059096', '551d5bf1', '5521c0d9', '5582e5ca', '5587a8d0', '5614dbcf', '5623160b', '56dc2b01', '56ff96f3', '5751f35e', '575b1a71', '5783df64', '5792cb4d', '57aa92db', '57edb29d', '5833af48', '58743b76', '58c02a16', '58e15b12', '59341089', '5a5a2103', '5a719d11', '5ad4f10b', '5ad8a7c0', '5adee1b2', '5af49b42', '5b37cb25', '5b526a93', '5b692c0f', '5b6cbef5', '5bd6f4ac', '5c0a986e', '5c2c9af4', '5d2a5c43', '5d588b4d', '5daaa586', '5e6bbc0b', '5ecac7f7', '5ffb2104', '60a26a3e', '60b61512', '60c09cac', '60d73be6', '6150a2bd', '6165ea8f', '623ea044', '626c0bcc', '62ab2642', '62b74c02', '62c24649', '6350f1f4', '63613498', '639f5a19', '642248e4', '642d658d', '6430c8c4', '6455b5f5', '64a7c07e', '652646ff', '662c240a', '668eec9a', '66ac4c3b', '66e6c45b', '66f2d22f', '67385a82', '673ef223', '67636eac', '6773b310', '67a3c6ac', '67a423a3', '67c52801', '67e8384a', '681b3aeb', '6855a6e4', '689c358e', '68b16354', '68b67ca3', '68bc2e87', '692cd3b6', '694f12f3', '695367ec', '696d4842', '69889d6e', '6a11f6da', '6a1e5592', '6a980be1', '6aa20dc0', '6ad5bdfd', '6b9890af', '6bcdb01e', '6c434453', '6ca952ad', '6cbe9eb8', '6cdd2623', '6cf79266', '6d0160f0', '6d0aefbc', '6d1d5c90', '6d58a25d', '6d75e8bb', '6df30ad6', '6e02f1e3', '6e19193c', '6e82a1ae', '6ea4a07e', '6ecd11f4', '6f473927', '6f8cd79b', '6fa7a44f', '6ffe8f07', '7039b2d7', '705a3229', '712bf12e', '72207abc', '72322fa7', '72a961c9', '72ca375d', '73182012', '73c3b0d8', '73ccf9c2', '7447852a', '7468f01a', '746b3537', '74dd1130', '753ea09b', '758abdf0', '759f3fd3', '75b8110e', '760b3cac', '762cd429', '770cc55f', '776ffc46', '77fdfe62', '780d0b14', '782b5218', '7837ac64', '78e78cff', '79369cc6', '794b24be', '7953d61e', '79cce52d', '7acdf6d3', '7b6016b9', '7b7f7511', '7bb29440', '7c008303', '7c8af763', '7c9b52a0', '7d18a6fb', '7d1f7ee8', '7d419a02', '7d7772cc', '7ddcd7ec', '7df24a62', '7e02026e', '7e0986d6', '7e2bad24', '7e4d4f7c', '7e576d6e', '7ec998c9', '7ee1c6ea', '7f4411dc', '7fe24cdd', '80214e03', '80af3007', '810b9b61', '817e6c09', '81c0276b', '825aa9e9', '82819916', '83302e8f', '833966f4', '833dafe3', '834ec97d', '83b6b474', '83eb0a57', '8403a5d5', '84551f4c', '845d6e51', '846bdb03', '84ba50d3', '84db8fc4', '84f2aca1', '855e0971', '8597cfd7', '85b81ff1', '85c4e7cd', '85fa5666', '8618d23e', '868de0fa', '8719f442', '8731374e', '878187ab', '87ab05b8', '880c1354', '88207623', '8886d717', '88a10436', '88a62173', '890034e9', '891232d6', '896d5239', '8a004b2b', '8a371977', '8a6d367c', '8abad3cf', '8b28cd80', '8ba14f53', '8be77c9e', '8cb8642d', '8d5021e8', '8d510a79', '8dab14c2', '8dae5dfc', '8e1813be', '8e2edd66', '8e301a54', '8e5a5113', '8eb1be9a', '8ee62060', '8efcae92', '8f2ea7aa', '8fbca751', '8fff9e47', '902510d5', '90347967', '90c28cc7', '90f3ed37', '9110e3c5', '913fb3ed', '91413438', '91714a58', '9172f3a0', '917bccba', '928ad970', '92e50de0', '9344f635', '9356391f', '93b4f4b3', '93b581b8', '93c31fbe', '94133066', '941d9a10', '94414823', '9473c6fb', '94be5b80', '94f9d214', '952a094c', '9565186b', '95755ff2', '95990924', '95a58926', '963c33f8', '963e52fc', '963f59bc', '96a8c0cd', '9720b24f', '97239e3d', '973e499e', '9772c176', '97999447', '97a05b5b', '97c75046', '981add89', '9841fdad', '984d8a3e', '985ae207', '98c475bf', '98cf29f8', '992798f6', '99306f82', '995c5fa3', '9968a131', '996ec1f3', '99b1bc43', '99caaf76', '99fa7670', '9a4bb226', '9aec4887', '9af7a82c', '9b2a60aa', '9b30e358', '9b365c51', '9b4c17c4', '9b5080bb', '9ba4a9aa', '9bebae7a', '9c1e755f', '9c56f360', '9caba7c3', '9caf5b84', '9d9215db', '9ddd00f0', '9def23fe', '9dfd6313', '9edfc990', '9f236235', '9f27f097', '9f41bd9c', '9f5f939b', '9f669b64', '9f8de559', 'a04b2602', 'a096bf4d', 'a09f6c25', 'a1570a43', 'a1aa0c1e', 'a2d730bd', 'a2fd1cf0', 'a3325580', 'a3f84088', 'a406ac07', 'a416b8f3', 'a416fc5b', 'a48eeaf7', 'a5313dff', 'a57f2f04', 'a59b95c0', 'a5f85a15', 'a61ba2ce', 'a61f2674', 'a644e277', 'a64e4611', 'a65b410d', 'a680ac02', 'a68b268e', 'a6953f00', 'a699fb00', 'a740d043', 'a78176bb', 'a79310a0', 'a834deea', 'a85d4709', 'a8610ef7', 'a87f7484', 'a8c38be5', 'a8d7556c', 'a934301b', 'a9f96cdd', 'aa18de87', 'aa300dc3', 'aa62e3f4', 'aab50785', 'aabf363d', 'aaecdb9a', 'aaef0977', 'aba27056', 'abbfd121', 'ac0a08a4', 'ac0c2ac3', 'ac0c5833', 'ac2e8ecf', 'ac3e2b04', 'ac605cbb', 'ac6f9922', 'ad173014', 'ad38a9d0', 'ad3b40cf', 'ad7e01d0', 'ae3edfdc', 'ae4f1146', 'ae58858e', 'aedd82e4', 'aee291af', 'af24b4cc', 'af726779', 'af902bf9', 'afe3afe9', 'b0722778', 'b0c4d837', 'b0f4d537', 'b15fca0b', 'b190f7f5', 'b1948b0a', 'b1986d4b', 'b1fc8b8e', 'b20f7c8b', 'b230c067', 'b25e450b', 'b27ca6d3', 'b2862040', 'b2bc3ffd', 'b457fec5', 'b4a43f3b', 'b527c5c6', 'b548a754', 'b5bb5719', 'b60334d2', 'b6afb2da', 'b71a7747', 'b7249182', 'b7256dcd', 'b745798f', 'b74ca5d1', 'b775ac94', 'b782dc8a', 'b7955b3c', 'b7999b51', 'b7cb93ac', 'b7f8a4d8', 'b7fb29bc', 'b8825c91', 'b8cdaf2b', 'b91ae062', 'b942fd60', 'b94a9452', 'b9630600', 'b9b7f026', 'ba1aa698', 'ba26e723', 'ba97ae07', 'ba9d41b8', 'bae5c565', 'baf41dbf', 'bb43febb', 'bb52a14b', 'bbb1b8b6', 'bbc9ae5d', 'bc1d5164', 'bc4146bd', 'bc93ec48', 'bcb3040b', 'bd14c3bf', 'bd283c4a', 'bd4472b8', 'bd5af378', 'bda2d7a6', 'bdad9b1f', 'be03b35f', 'be94b721', 'beb8660c', 'bf32578f', 'bf699163', 'bf89d739', 'c074846d', 'c0f76784', 'c1990cce', 'c1d99e64', 'c3202e5a', 'c35c1b4c', 'c3e719e8', 'c3fa4749', 'c444b776', 'c48954c1', 'c4d1a9ae', 'c59eb873', 'c6141b15', 'c61be7dc', 'c62e2108', 'c64f1187', 'c658a4bd', 'c6e1b8da', 'c7d4e6ad', 'c803e39c', 'c87289bb', 'c8b7cc0f', 'c8cbb738', 'c8f0f002', 'c909285e', 'c920a713', 'c92b942c', 'c9680e90', 'c97c0139', 'c9e6f938', 'c9f8e694', 'ca8de6ea', 'caa06a1f', 'cad67732', 'cb227835', 'cbded52d', 'cc9053aa', 'ccd554ac', 'cce03e0d', 'cd3c21df', 'cdecee7f', 'ce039d91', 'ce22a75a', 'ce4f8723', 'ce602527', 'ce8d95cc', 'ce9e57f2', 'cf133acc', 'cf5fd0ad', 'cf98881b', 'cfb2ce5a', 'd017b73f', 'd037b0a7', 'd06dbe63', 'd07ae81c', 'd0f5fe59', 'd10ecb37', 'd13f3404', 'd19f7514', 'd22278a0', 'd23f8c26', 'd255d7a7', 'd282b262', 'd2abd087', 'd2acf2cb', 'd304284e', 'd364b489', 'd37a1ef5', 'd406998b', 'd43fd935', 'd4469b4b', 'd47aa2ff', 'd492a647', 'd4a91cb9', 'd4b1c2b1', 'd4c90558', 'd4f3cd78', 'd511f180', 'd56f2372', 'd5c634a2', 'd5d6de2d', 'd631b094', 'd6542281', 'd687bc17', 'd6ad076f', 'd6e50e54', 'd749d46f', 'd753a70b', 'd89b689b', 'd8c310e9', 'd90796e8', 'd931c21c', 'd93c6891', 'd94c3b52', 'd968ffd4', 'd9f24cd1', 'd9fac9be', 'da2b0fe3', 'da6e95e5', 'dae9d2b5', 'db118e2a', 'db3e9e38', 'db615bd4', 'db7260a4', 'db93a21d', 'dbc1a6ce', 'dc1df850', 'dc2aa30b', 'dc2e9a9d', 'dc433765', 'dc46ea44', 'dce56571', 'dd2401ed', 'ddf7fa4f', 'de1cd16c', 'de493100', 'ded97339', 'df8cc377', 'df978a02', 'df9fd884', 'e048c9ed', 'e0fb7511', 'e133d23d', 'e179c5f4', 'e1baa8a4', 'e1d2900e', 'e2092e0c', 'e21a174a', 'e21d9049', 'e26a3af2', 'e345f17b', 'e3497940', 'e39e9282', 'e3f79277', 'e3fe1151', 'e4075551', 'e40b9e2f', 'e41c6fd3', 'e45ef808', 'e4888269', 'e48d4e1a', 'e4941b18', 'e5062a87', 'e509e548', 'e50d258f', 'e57337a4', 'e5790162', 'e5c44e8f', 'e619ca6e', 'e633a9e5', 'e6721834', 'e681b708', 'e69241bd', 'e6de6e8f', 'e729b7be', 'e73095fd', 'e734a0e8', 'e74e1818', 'e760a62e', 'e7639916', 'e76a88a6', 'e78887d1', 'e7a25a18', 'e7b06bea', 'e7dd8335', 'e84fef15', 'e8593010', 'e872b94a', 'e88171ec', 'e8dc4411', 'e9614598', 'e98196ab', 'e99362f0', 'e9ac8c9e', 'e9afcf9a', 'e9b4f6fc', 'e9bb6954', 'e9c9d9a1', 'e9fc42f2', 'ea32f347', 'ea786f4a', 'ea959feb', 'ea9794b1', 'eb281b96', 'eb5a1d5d', 'ec883f72', 'ecaa0ec1', 'ecb67b6d', 'ecdecbb3', 'ed36ccf7', 'ed74f2f2', 'ed98d772', 'edcc2ff0', 'ef135b50', 'ef26cbf6', 'f0100645', 'f0afb749', 'f0df5ff0', 'f0f8a26d', 'f15e1fac', 'f18ec8cc', 'f1bcbc2c', 'f1cefba8', 'f21745ec', 'f25fbde4', 'f25ffba3', 'f2829549', 'f28a3cbb', 'f341894c', 'f35d900a', 'f3b10344', 'f3cdc58f', 'f3e14006', 'f3e62deb', 'f45f5ca7', 'f5aa3634', 'f5b8619d', 'f5c89df1', 'f76d97a5', 'f823c43c', 'f83cb3f6', 'f8a8fe49', 'f8b3ba0a', 'f8be4b64', 'f8c80d96', 'f8cc533f', 'f8f52ecc', 'f8ff0b80', 'f9012d9b', 'f9a67cb5', 'f9d67f8b', 'fafd9572', 'fafffa47', 'fb791726', 'fbf15a0b', 'fc10701f', 'fc4aaf52', 'fc754716', 'fcb5c309', 'fcc82909', 'fd02da9e', 'fd096ab6', 'fd4b2b02', 'fe45cba4', 'fe9372f3', 'fea12743', 'feca6190', 'ff2825db', 'ff28f65a', 'ff72ca3e', 'ff805c23'])"
      ]
     },
     "execution_count": 3,
     "metadata": {},
     "output_type": "execute_result"
    }
   ],
   "source": [
    "data.keys()"
   ]
  },
  {
   "cell_type": "code",
   "execution_count": 8,
   "id": "468e41d8",
   "metadata": {
    "metadata": {}
   },
   "outputs": [
    {
     "name": "stdout",
     "output_type": "stream",
     "text": [
      "[[0, 0, 1, 0, 0, 1, 0, 0, 1, 0, 0, 1, 0, 0, 1, 0, 0, 1, 0, 0, 1, 0, 0], [0, 0, 1, 0, 0, 1, 0, 0, 1, 0, 0, 1, 0, 0, 1, 0, 0, 1, 0, 0, 1, 0, 0], [1, 1, 1, 1, 1, 1, 1, 1, 1, 1, 1, 1, 1, 1, 1, 1, 1, 1, 1, 1, 1, 1, 1], [0, 0, 1, 2, 2, 1, 0, 0, 1, 0, 0, 1, 4, 4, 1, 0, 0, 1, 0, 0, 1, 0, 0], [0, 0, 1, 2, 2, 1, 0, 0, 1, 0, 0, 1, 4, 4, 1, 0, 0, 1, 0, 0, 1, 0, 0], [1, 1, 1, 1, 1, 1, 1, 1, 1, 1, 1, 1, 1, 1, 1, 1, 1, 1, 1, 1, 1, 1, 1], [0, 0, 1, 0, 0, 1, 0, 0, 1, 0, 0, 1, 0, 0, 1, 0, 0, 1, 0, 0, 1, 0, 0], [0, 0, 1, 0, 0, 1, 0, 0, 1, 0, 0, 1, 0, 0, 1, 0, 0, 1, 0, 0, 1, 0, 0], [1, 1, 1, 1, 1, 1, 1, 1, 1, 1, 1, 1, 1, 1, 1, 1, 1, 1, 1, 1, 1, 1, 1], [0, 0, 1, 0, 0, 1, 0, 0, 1, 9, 9, 1, 0, 0, 1, 0, 0, 1, 0, 0, 1, 9, 9], [0, 0, 1, 0, 0, 1, 0, 0, 1, 9, 9, 1, 0, 0, 1, 0, 0, 1, 0, 0, 1, 9, 9], [1, 1, 1, 1, 1, 1, 1, 1, 1, 1, 1, 1, 1, 1, 1, 1, 1, 1, 1, 1, 1, 1, 1], [0, 0, 1, 0, 0, 1, 0, 0, 1, 0, 0, 1, 0, 0, 1, 0, 0, 1, 8, 8, 1, 0, 0], [0, 0, 1, 0, 0, 1, 0, 0, 1, 0, 0, 1, 0, 0, 1, 0, 0, 1, 8, 8, 1, 0, 0], [1, 1, 1, 1, 1, 1, 1, 1, 1, 1, 1, 1, 1, 1, 1, 1, 1, 1, 1, 1, 1, 1, 1], [0, 0, 1, 2, 2, 1, 0, 0, 1, 0, 0, 1, 0, 0, 1, 0, 0, 1, 0, 0, 1, 0, 0], [0, 0, 1, 2, 2, 1, 0, 0, 1, 0, 0, 1, 0, 0, 1, 0, 0, 1, 0, 0, 1, 0, 0], [1, 1, 1, 1, 1, 1, 1, 1, 1, 1, 1, 1, 1, 1, 1, 1, 1, 1, 1, 1, 1, 1, 1], [0, 0, 1, 0, 0, 1, 0, 0, 1, 8, 8, 1, 0, 0, 1, 0, 0, 1, 8, 8, 1, 0, 0], [0, 0, 1, 0, 0, 1, 0, 0, 1, 8, 8, 1, 0, 0, 1, 0, 0, 1, 8, 8, 1, 0, 0], [1, 1, 1, 1, 1, 1, 1, 1, 1, 1, 1, 1, 1, 1, 1, 1, 1, 1, 1, 1, 1, 1, 1], [0, 0, 1, 0, 0, 1, 0, 0, 1, 0, 0, 1, 0, 0, 1, 0, 0, 1, 0, 0, 1, 0, 0], [0, 0, 1, 0, 0, 1, 0, 0, 1, 0, 0, 1, 0, 0, 1, 0, 0, 1, 0, 0, 1, 0, 0]]\n"
     ]
    }
   ],
   "source": [
    "list_number = list(data.keys())\n",
    "n=15\n",
    "example = data[list_number[n]][\"train\"][0]\n",
    "print(example['input'])"
   ]
  },
  {
   "cell_type": "code",
   "execution_count": null,
   "id": "8a0dc012",
   "metadata": {
    "metadata": {}
   },
   "outputs": [],
   "source": []
  },
  {
   "cell_type": "code",
   "execution_count": 7,
   "id": "26adcab4",
   "metadata": {
    "metadata": {}
   },
   "outputs": [
    {
     "data": {
      "image/png": "[encoded data removed]",
      "text/plain": [
       "<Figure size 200x200 with 1 Axes>"
      ]
     },
     "metadata": {},
     "output_type": "display_data"
    },
    {
     "data": {
      "image/png": "[encoded data removed]",
      "text/plain": [
       "<Figure size 200x200 with 1 Axes>"
      ]
     },
     "metadata": {},
     "output_type": "display_data"
    }
   ],
   "source": [
    "plot_grid(example[\"input\"], title=\"Input Grid\")\n",
    "plot_grid(example[\"output\"], title=\"Output Grid\")"
   ]
  },
  {
   "cell_type": "code",
   "execution_count": 8,
   "id": "5d312f9a",
   "metadata": {},
   "outputs": [],
   "source": [
    "import sys\n",
    "sys.path.append(\"/workspaces/arcprize2025/sources\")"
   ]
  },
  {
   "cell_type": "markdown",
   "id": "eeec0a12",
   "metadata": {},
   "source": []
  },
  {
   "cell_type": "code",
   "execution_count": 9,
   "id": "545256e7",
   "metadata": {},
   "outputs": [
    {
     "name": "stderr",
     "output_type": "stream",
     "text": [
      "Skipping mask-based pruning due to shape mismatch.\n"
     ]
    }
   ],
   "source": [
    "from tools.program_synthesizer_tool import ProgramSynthesizerTool\n",
    "from core.llm import OpenRouterClient\n",
    "from core.synthesis_engine import SynthesisEngine\n",
    "from tools.grid_analyzer_tool import GridAnalyzerTool\n",
    "\n",
    "analysis_tool = GridAnalyzerTool()\n",
    "synth_tool = ProgramSynthesizerTool(llm=OpenRouterClient(),synthesizer=SynthesisEngine())\n",
    "\n",
    "input_grid = example[\"input\"]\n",
    "output_grid = example[\"output\"]\n",
    "\n",
    "\n",
    "analysis = analysis_tool.run({\"input_grid\": input_grid, \"output_grid\": output_grid})\n",
    "result = synth_tool._run(input_grid, output_grid, analysis)"
   ]
  },
  {
   "cell_type": "code",
   "execution_count": 12,
   "id": "f0c83031",
   "metadata": {},
   "outputs": [
    {
     "name": "stdout",
     "output_type": "stream",
     "text": [
      "The main transformations that led from the input grid to the output grid are centered around the repetition of the input grid's pattern to form a larger, more extensive grid. Here's a breakdown of the process:\n",
      "\n",
      "1. **Input Grid Structure**:\n",
      "   - The input grid consists of 2 rows and 2 columns, totaling 4 cells.\n",
      "   - The values in the input grid are:\n",
      "     ```\n",
      "     7 9\n",
      "     4 3\n",
      "     ```\n",
      "\n",
      "2. **Output Grid Structure**:\n",
      "   - The output grid has a size of 6 rows by 6 columns, totaling 36 cells.\n",
      "\n",
      "3. **Output Grid Formulation**:\n",
      "   - The output grid is formed by repeating the 2x2 input pattern in both the horizontal and vertical directions to create a 6x6 grid.\n",
      "   - Specifically, the 2x2 block:\n",
      "     ```\n",
      "     7 9\n",
      "     4 3\n",
      "     ```\n",
      "    is repeated to fill the entire 6x6 grid. This results in a repetitive, tiled pattern:\n",
      "    ```\n",
      "    7 9 7 9 7 9\n",
      "    4 3 4 3 4 3\n",
      "    7 9 7 9 7 9\n",
      "    4 3 4 3 4 3\n",
      "    7 9 7 9 7 9\n",
      "    4 3 4 3 4 3\n",
      "    ```\n",
      "\n",
      "4. **Features and Analysis**:\n",
      "   - **Shape Features**: The input grid is a 2x2 square. The output grid has an aspect ratio of 1.0, forming a much larger 6x6 square.\n",
      "   - **Density Feature**: The foreground ratio of the input grid is 0.75, and this ratio is preserved in the output grid.\n",
      "   - **Patterns**:\n",
      "     - There is no inherent symmetry or repetition noticed within the input itself, but this repetition is a straightforward tiling process.\n",
      "   - **Component Stats**: The input has just one continuous component filling all 4 cells; that pattern is scaled up to the entire output, maintaining the same aspect ratio but scaling the average area to 20.5.\n",
      "   - **Relational Features**:\n",
      "     - The dimensions of the output grid are exactly 3 times the dimensions of the input grid both in rows and columns, leading to an area that is 9 times larger.\n",
      "     - The colors of the output grid are entirely derived from the input grid, maintaining the same set of values.\n",
      "     - The density transformation retains the 0.75 foreground/background ratio throughout this grid repetition.\n",
      "\n",
      "5. **Suggested Transform**: The suggested transform with the highest confidence (0.9) is \"RepeatGrid\". This transform is appropriate because it accurately describes the process of tiling the 2x2 input pattern to form the larger 6x6 output grid.\n",
      "\n",
      "In summary, the key transformation is the repetition of the input 2x2 pattern to create a larger 6x6 grid. This process follows the dimensional and color constraints provided by the input grid, resulting in a perfectly tiled output grid.\n"
     ]
    }
   ],
   "source": [
    "print(analysis)"
   ]
  },
  {
   "cell_type": "code",
   "execution_count": 11,
   "id": "5eefabe5",
   "metadata": {},
   "outputs": [
    {
     "data": {
      "text/plain": [
       "{'success': True,\n",
       " 'result_grid': [[7, 9, 7, 9, 7, 9],\n",
       "  [4, 3, 4, 3, 4, 3],\n",
       "  [7, 9, 7, 9, 7, 9],\n",
       "  [4, 3, 4, 3, 4, 3],\n",
       "  [7, 9, 7, 9, 7, 9],\n",
       "  [4, 3, 4, 3, 4, 3]],\n",
       " 'program': '<core.dsl_nodes.RepeatGrid object at 0x7350238ab5f0>',\n",
       " 'score': 0.6666666666666666,\n",
       " 'alternatives': []}"
      ]
     },
     "execution_count": 11,
     "metadata": {},
     "output_type": "execute_result"
    }
   ],
   "source": [
    "result"
   ]
  },
  {
   "cell_type": "code",
   "execution_count": null,
   "id": "7ee55336",
   "metadata": {},
   "outputs": [],
   "source": []
  }
 ],
 "metadata": {
  "kernelspec": {
   "display_name": "Python 3",
   "language": "python",
   "name": "python3"
  },
  "language_info": {
   "codemirror_mode": {
    "name": "ipython",
    "version": 3
   },
   "file_extension": ".py",
   "mimetype": "text/x-python",
   "name": "python",
   "nbconvert_exporter": "python",
   "pygments_lexer": "ipython3",
   "version": "3.12.7"
  }
 },
 "nbformat": 4,
 "nbformat_minor": 5
}
