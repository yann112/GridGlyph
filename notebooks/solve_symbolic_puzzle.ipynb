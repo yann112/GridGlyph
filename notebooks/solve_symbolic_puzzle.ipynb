{
 "cells": [
  {
   "cell_type": "code",
   "execution_count": null,
   "metadata": {},
   "outputs": [],
   "source": []
  },
  {
   "cell_type": "code",
   "execution_count": 71,
   "metadata": {
    "metadata": {}
   },
   "outputs": [],
   "source": [
    "import sys\n",
    "import os\n",
    "from pathlib import Path\n",
    "from dotenv import load_dotenv\n",
    "from pprint import pprint\n",
    "\n",
    "# Load environment variables from .env\n",
    "load_dotenv()\n",
    "# Add src folder to path\n",
    "project_root = Path.cwd().parent  # assumes notebook is in child folder\n",
    "src_path = project_root / \"sources\"\n",
    "sys.path.append(str(src_path))\n",
    "from core.llm import OpenRouterClient\n",
    "from utils.generate_dsl_docs import generate_symbolic_dsl_reference_markdown\n",
    "from agents.agents_utils import MultiGridFeatureCollector, SymbolicGridMapper"
   ]
  },
  {
   "cell_type": "code",
   "execution_count": 72,
   "metadata": {
    "metadata": {}
   },
   "outputs": [],
   "source": [
    "def save_solution_to_json(puzzle_id: str, rule: str, file_path: str):\n",
    "    \"\"\"\n",
    "    Saves a solved puzzle's rule to a JSON file.\n",
    "\n",
    "    Parameters:\n",
    "    - puzzle_id: The ID of the puzzle (e.g., \"000d3fb3\").\n",
    "    - rule: The DSL rule string that solves the puzzle.\n",
    "    - file_path: The path to the JSON file where solutions are stored.\n",
    "    \"\"\"\n",
    "    # Ensure the directory exists\n",
    "    Path(file_path).parent.mkdir(parents=True, exist_ok=True)\n",
    "\n",
    "    solutions = {}\n",
    "    if Path(file_path).exists():\n",
    "        try:\n",
    "            with open(file_path, 'r') as f:\n",
    "                solutions = json.load(f)\n",
    "        except json.JSONDecodeError:\n",
    "            print(f\"Warning: Existing JSON file at {file_path} is empty or malformed. Starting fresh.\")\n",
    "            solutions = {}\n",
    "\n",
    "    solutions[puzzle_id] = rule\n",
    "\n",
    "    with open(file_path, 'w') as f:\n",
    "        json.dump(solutions, f, indent=4)\n",
    "    print(f\"Solution for puzzle '{puzzle_id}' saved successfully to {file_path}\")\n"
   ]
  },
  {
   "cell_type": "code",
   "execution_count": 73,
   "metadata": {
    "metadata": {}
   },
   "outputs": [],
   "source": [
    "# json_file = \"/workspaces/arcprize2025/datas/arc-agi_training_challenges.json\"\n",
    "# json_file = r\"C:\\Users\\UT00YBG3\\Documents\\arcprize2025\\datas\\arc-agi_training_challenges.json\"\n",
    "json_file = \"/home/yann/ssd_storage/python/arcprize2025/datas/arc-agi_training_challenges.json\"\n",
    "solved_puzzles_json_path = \"/home/yann/ssd_storage/python/arcprize2025/sources/assets/SYMB_A.json\""
   ]
  },
  {
   "cell_type": "code",
   "execution_count": 74,
   "metadata": {
    "metadata": {}
   },
   "outputs": [],
   "source": [
    "import json\n",
    "import matplotlib.pyplot as plt\n",
    "import numpy as np\n",
    "\n",
    "\n",
    "def plot_grid(grid, title=\"\"):\n",
    "    \"\"\"\n",
    "    Plots a single 2D grid using matplotlib.\n",
    "    \n",
    "    Parameters:\n",
    "    - grid: List of lists of integers.\n",
    "    - title: Optional title for the plot.\n",
    "    \"\"\"\n",
    "    grid_array = np.array(grid)\n",
    "    plt.figure(figsize=(2, 2))\n",
    "    plt.imshow(grid_array, cmap='tab20', interpolation='nearest')\n",
    "    plt.title(title)\n",
    "    plt.axis('off')\n",
    "    plt.show()"
   ]
  },
  {
   "cell_type": "code",
   "execution_count": 101,
   "metadata": {
    "metadata": {}
   },
   "outputs": [
    {
     "name": "stdout",
     "output_type": "stream",
     "text": [
      "--- Training Example 0 ---\n"
     ]
    },
    {
     "data": {
      "image/png": "[encoded data removed]",
      "text/plain": [
       "<Figure size 200x200 with 1 Axes>"
      ]
     },
     "metadata": {},
     "output_type": "display_data"
    },
    {
     "name": "stdout",
     "output_type": "stream",
     "text": [
      "[[0, 0, 0, 0, 0, 0, 0, 8, 8, 0, 0, 0, 0, 0],\n",
      " [0, 0, 0, 0, 0, 0, 0, 0, 8, 8, 8, 0, 0, 0],\n",
      " [0, 0, 0, 0, 0, 0, 0, 0, 0, 0, 8, 0, 8, 0],\n",
      " [0, 0, 0, 0, 0, 8, 8, 8, 8, 0, 8, 8, 8, 0],\n",
      " [0, 0, 0, 0, 8, 8, 0, 0, 8, 8, 8, 0, 8, 8],\n",
      " [0, 0, 0, 0, 0, 0, 0, 8, 8, 0, 0, 0, 8, 0],\n",
      " [0, 0, 0, 0, 0, 0, 8, 8, 0, 0, 0, 8, 8, 0],\n",
      " [0, 0, 0, 0, 0, 0, 0, 0, 0, 8, 8, 8, 0, 0],\n",
      " [0, 0, 0, 0, 0, 0, 0, 0, 0, 0, 0, 0, 0, 0],\n",
      " [0, 0, 0, 0, 0, 0, 0, 0, 0, 0, 0, 0, 0, 0],\n",
      " [0, 0, 0, 0, 1, 1, 1, 0, 0, 0, 0, 0, 0, 0],\n",
      " [0, 0, 0, 0, 1, 0, 1, 0, 0, 0, 0, 0, 0, 0],\n",
      " [0, 0, 0, 0, 0, 1, 0, 0, 0, 0, 0, 0, 0, 0],\n",
      " [0, 0, 0, 0, 0, 0, 0, 0, 0, 0, 0, 0, 0, 0]]\n"
     ]
    },
    {
     "data": {
      "image/png": "[encoded data removed]",
      "text/plain": [
       "<Figure size 200x200 with 1 Axes>"
      ]
     },
     "metadata": {},
     "output_type": "display_data"
    },
    {
     "name": "stdout",
     "output_type": "stream",
     "text": [
      "--- Training Example 1 ---\n"
     ]
    },
    {
     "data": {
      "image/png": "[encoded data removed]",
      "text/plain": [
       "<Figure size 200x200 with 1 Axes>"
      ]
     },
     "metadata": {},
     "output_type": "display_data"
    },
    {
     "name": "stdout",
     "output_type": "stream",
     "text": [
      "[[0, 0, 0, 0, 0, 0, 0, 0, 0, 0, 0, 0, 0, 0],\n",
      " [0, 0, 0, 0, 0, 0, 0, 0, 0, 0, 0, 0, 0, 0],\n",
      " [0, 0, 0, 0, 8, 8, 0, 8, 0, 8, 8, 0, 0, 0],\n",
      " [0, 0, 0, 0, 8, 0, 8, 0, 8, 0, 8, 0, 0, 0],\n",
      " [0, 0, 0, 0, 8, 8, 0, 8, 0, 8, 8, 0, 0, 0],\n",
      " [0, 0, 0, 0, 0, 0, 0, 0, 0, 0, 0, 0, 0, 0],\n",
      " [0, 0, 0, 0, 0, 0, 0, 0, 0, 0, 0, 0, 0, 0],\n",
      " [0, 0, 0, 0, 0, 0, 0, 0, 0, 0, 0, 0, 0, 0],\n",
      " [0, 0, 0, 0, 0, 0, 0, 0, 0, 0, 0, 0, 0, 0],\n",
      " [0, 0, 0, 0, 0, 0, 0, 0, 0, 0, 0, 0, 0, 0],\n",
      " [0, 0, 0, 1, 0, 1, 0, 0, 0, 0, 0, 0, 0, 0],\n",
      " [0, 0, 0, 0, 1, 0, 0, 0, 0, 0, 0, 0, 0, 0],\n",
      " [0, 0, 0, 1, 1, 1, 0, 0, 0, 0, 0, 0, 0, 0],\n",
      " [0, 0, 0, 0, 0, 0, 0, 0, 0, 0, 0, 0, 0, 0]]\n"
     ]
    },
    {
     "data": {
      "image/png": "[encoded data removed]",
      "text/plain": [
       "<Figure size 200x200 with 1 Axes>"
      ]
     },
     "metadata": {},
     "output_type": "display_data"
    },
    {
     "name": "stdout",
     "output_type": "stream",
     "text": [
      "--- Training Example 2 ---\n"
     ]
    },
    {
     "data": {
      "image/png": "[encoded data removed]",
      "text/plain": [
       "<Figure size 200x200 with 1 Axes>"
      ]
     },
     "metadata": {},
     "output_type": "display_data"
    },
    {
     "name": "stdout",
     "output_type": "stream",
     "text": [
      "[[0, 0, 0, 8, 0, 0, 0, 8, 0, 0, 0, 0, 0, 0],\n",
      " [0, 8, 0, 8, 0, 8, 0, 8, 0, 8, 0, 0, 0, 0],\n",
      " [0, 8, 8, 8, 8, 8, 8, 8, 8, 8, 0, 0, 0, 0],\n",
      " [0, 8, 0, 8, 0, 8, 0, 8, 0, 8, 0, 0, 0, 0],\n",
      " [0, 8, 0, 0, 0, 8, 0, 0, 0, 8, 0, 0, 0, 0],\n",
      " [0, 0, 0, 0, 0, 0, 0, 0, 0, 0, 0, 0, 0, 0],\n",
      " [0, 0, 0, 0, 0, 0, 0, 0, 0, 0, 0, 0, 0, 0],\n",
      " [0, 0, 0, 0, 0, 0, 0, 0, 0, 0, 0, 0, 0, 0],\n",
      " [0, 0, 0, 0, 0, 0, 0, 0, 0, 0, 0, 0, 0, 0],\n",
      " [0, 0, 0, 0, 0, 0, 0, 0, 1, 0, 0, 0, 0, 0],\n",
      " [0, 0, 0, 0, 0, 0, 0, 1, 1, 1, 0, 0, 0, 0],\n",
      " [0, 0, 0, 0, 0, 0, 0, 0, 1, 0, 0, 0, 0, 0],\n",
      " [0, 0, 0, 0, 0, 0, 0, 0, 0, 0, 0, 0, 0, 0],\n",
      " [0, 0, 0, 0, 0, 0, 0, 0, 0, 0, 0, 0, 0, 0]]\n"
     ]
    },
    {
     "data": {
      "image/png": "[encoded data removed]",
      "text/plain": [
       "<Figure size 200x200 with 1 Axes>"
      ]
     },
     "metadata": {},
     "output_type": "display_data"
    },
    {
     "name": "stdout",
     "output_type": "stream",
     "text": [
      "--- Training Example 3 ---\n"
     ]
    },
    {
     "data": {
      "image/png": "[encoded data removed]",
      "text/plain": [
       "<Figure size 200x200 with 1 Axes>"
      ]
     },
     "metadata": {},
     "output_type": "display_data"
    },
    {
     "name": "stdout",
     "output_type": "stream",
     "text": [
      "[[0, 0, 0, 0, 0, 0, 0, 0, 0, 0, 0, 0, 0, 0],\n",
      " [0, 0, 0, 0, 0, 0, 0, 0, 8, 0, 0, 0, 0, 0],\n",
      " [0, 0, 0, 0, 0, 8, 8, 8, 0, 8, 8, 0, 0, 0],\n",
      " [0, 0, 0, 0, 0, 0, 8, 0, 8, 8, 0, 0, 0, 0],\n",
      " [0, 0, 0, 0, 0, 0, 0, 8, 0, 0, 8, 8, 0, 0],\n",
      " [0, 0, 0, 0, 0, 0, 0, 0, 8, 8, 0, 8, 0, 0],\n",
      " [0, 0, 0, 0, 0, 0, 0, 0, 0, 0, 8, 0, 0, 0],\n",
      " [0, 0, 0, 0, 0, 0, 0, 0, 0, 0, 0, 0, 0, 0],\n",
      " [0, 0, 1, 0, 1, 0, 0, 0, 0, 0, 0, 0, 0, 0],\n",
      " [0, 0, 0, 1, 0, 0, 0, 0, 0, 0, 0, 0, 0, 0],\n",
      " [0, 0, 1, 1, 1, 0, 0, 0, 0, 0, 0, 0, 0, 0],\n",
      " [0, 0, 0, 0, 0, 0, 0, 0, 0, 0, 0, 0, 0, 0],\n",
      " [0, 0, 0, 0, 0, 0, 0, 0, 0, 0, 0, 0, 0, 0],\n",
      " [0, 0, 0, 0, 0, 0, 0, 0, 0, 0, 0, 0, 0, 0]]\n"
     ]
    },
    {
     "data": {
      "image/png": "[encoded data removed]",
      "text/plain": [
       "<Figure size 200x200 with 1 Axes>"
      ]
     },
     "metadata": {},
     "output_type": "display_data"
    },
    {
     "name": "stdout",
     "output_type": "stream",
     "text": [
      "--- Training Example 4 ---\n"
     ]
    },
    {
     "data": {
      "image/png": "[encoded data removed]",
      "text/plain": [
       "<Figure size 200x200 with 1 Axes>"
      ]
     },
     "metadata": {},
     "output_type": "display_data"
    },
    {
     "name": "stdout",
     "output_type": "stream",
     "text": [
      "[[0, 0, 0, 0, 0, 0, 0, 0, 0, 0, 0, 0, 0, 0],\n",
      " [0, 0, 0, 0, 0, 0, 0, 8, 8, 0, 8, 8, 0, 0],\n",
      " [0, 0, 0, 0, 0, 0, 0, 0, 8, 8, 8, 0, 0, 0],\n",
      " [0, 0, 0, 0, 0, 8, 8, 8, 8, 0, 0, 0, 0, 0],\n",
      " [0, 0, 0, 0, 8, 8, 0, 8, 0, 0, 8, 8, 0, 0],\n",
      " [0, 0, 0, 0, 0, 0, 0, 8, 8, 8, 8, 0, 0, 0],\n",
      " [0, 0, 0, 0, 0, 0, 0, 0, 8, 0, 8, 0, 0, 0],\n",
      " [0, 0, 0, 0, 0, 0, 8, 8, 8, 0, 8, 8, 8, 0],\n",
      " [0, 0, 0, 0, 0, 0, 8, 0, 0, 0, 0, 0, 8, 0],\n",
      " [0, 0, 1, 0, 0, 0, 0, 0, 0, 0, 0, 0, 0, 0],\n",
      " [0, 1, 1, 1, 0, 0, 0, 0, 0, 0, 0, 0, 0, 0],\n",
      " [0, 0, 1, 0, 0, 0, 0, 0, 0, 0, 0, 0, 0, 0],\n",
      " [0, 0, 0, 0, 0, 0, 0, 0, 0, 0, 0, 0, 0, 0],\n",
      " [0, 0, 0, 0, 0, 0, 0, 0, 0, 0, 0, 0, 0, 0]]\n"
     ]
    },
    {
     "data": {
      "image/png": "[encoded data removed]",
      "text/plain": [
       "<Figure size 200x200 with 1 Axes>"
      ]
     },
     "metadata": {},
     "output_type": "display_data"
    },
    {
     "name": "stdout",
     "output_type": "stream",
     "text": [
      "--- Test Example 0 ---\n"
     ]
    },
    {
     "data": {
      "image/png": "[encoded data removed]",
      "text/plain": [
       "<Figure size 200x200 with 1 Axes>"
      ]
     },
     "metadata": {},
     "output_type": "display_data"
    }
   ],
   "source": [
    "n=2\n",
    "\n",
    "\n",
    "with open(json_file, 'r') as file:\n",
    "    data = json.load(file)\n",
    "\n",
    "data.keys()\n",
    "puzzle_id = list_number[n]\n",
    "list_number = list(data.keys())\n",
    "puzzle = data[puzzle_id]\n",
    "\n",
    "# Loop to plot all input/output pairs\n",
    "for i, example in enumerate(puzzle[\"train\"]):\n",
    "    print(f\"--- Training Example {i} ---\")\n",
    "    plot_grid(example[\"input\"], title=f\"Training Input {i}\")\n",
    "    pprint(example[\"input\"])\n",
    "    plot_grid(example[\"output\"], title=f\"Training Output {i}\")\n",
    "\n",
    "for i, example in enumerate(puzzle[\"test\"]):\n",
    "    print(f\"--- Test Example {i} ---\")\n",
    "    plot_grid(example[\"input\"], title=f\"Test Input {i}\")\n"
   ]
  },
  {
   "cell_type": "code",
   "execution_count": 85,
   "metadata": {
    "metadata": {}
   },
   "outputs": [],
   "source": [
    "mapper = SymbolicGridMapper()\n",
    "symbolic_variants = mapper.generate_variants(puzzle, symbol_set_ids=[\"katakana_bk\"])\n",
    "symbolics_grids = mapper.format_variants_list(symbolic_variants)\n",
    "doc_sigil = generate_symbolic_dsl_reference_markdown()\n"
   ]
  },
  {
   "cell_type": "code",
   "execution_count": 86,
   "metadata": {
    "metadata": {}
   },
   "outputs": [],
   "source": [
    "# **Resources:**\n",
    "# 1.  **DSL Command Documentation:**\n",
    "#     This section describes the available Domain Specific Language (DSL) commands, their symbols, parameters, and expected behavior. You must use only these commands.\n",
    "#     {doc_sigil}\n",
    "\n",
    "prompt = f\"\"\"\n",
    "You are an advanced AI specializing in synthesizing solutions for Abstraction and Reasoning Corpus (ARC) puzzles.\n",
    "\n",
    "---\n",
    "**Task:**\n",
    "Your primary task is to discover and formulate a *single, generalizable DSL rule* that transforms the given `input_grid` into the corresponding `output_grid` for *all* provided examples.\n",
    "\n",
    "---\n",
    "Valid test cases\n",
    "(\"Ⳁ\", np.array([[1, 0], [0, 1]], dtype=int), np.array([[1, 0], [0, 1]], dtype=int)),\n",
    "    (\"↔\", np.array([[1, 2], [3, 4]], dtype=int), np.array([[2, 1], [4, 3]], dtype=int)),\n",
    "    (\"→(I, ↢)\", np.array([[1, 2], [3, 4]], dtype=int), np.array([[2, 1], [3, 4]], dtype=int)),\n",
    "    (\"⟹(→(I,↢),↔)\", np.array([[1, 2], [3, 4]], dtype=int), np.array([[1, 2], [4, 3]], dtype=int)),\n",
    "    (\"⬒(II)\",  np.array([[1, 0], [0, 1]], dtype=int), np.tile( np.array([[1, 0], [0, 1]], dtype=int), (2, 1))),\n",
    "    (\"⇄(I,II)\", np.array([[1, 2], [3, 4]], dtype=int), np.array([[3, 4], [1, 2]], dtype=int)),\n",
    "    (\"⮝(I,II)\", np.array([[1, 2, 3], [4, 5, 6]], dtype=int), np.array([[2, 3, 1], [4, 5, 6]], dtype=int)),\n",
    "    (\"↕\", np.array([[1, 2], [3, 4]], dtype=int), np.array([[3, 4], [1, 2]], dtype=int)),\n",
    "    (\"↕\", np.array([[1, 2, 3], [4, 5, 6], [7, 8, 9]], dtype=int), np.array([[7, 8, 9], [4, 5, 6], [1, 2, 3]], dtype=int)),\n",
    "    (\"⮞(I,II)\", np.array([[1, 2, 3], [4, 5, 6], [7, 8, 9]], dtype=int), np.array([[4, 2, 3], [7, 5, 6], [1, 8, 9]], dtype=int)),\n",
    "    (\"⮞(II,I)\", np.array([[1, 2, 3], [4, 5, 6], [7, 8, 9]], dtype=int), np.array([[1, 8, 3], [4, 2, 6], [7, 5, 9]], dtype=int)),\n",
    "    (\"◨(II)\", np.array([[1, 0], [0, 1]], dtype=int), np.tile(np.array([[1, 0], [0, 1]], dtype=int), (1, 2))),\n",
    "    (\"◨(III)\", np.array([[1, 2]], dtype=int), np.array([[1, 2, 1, 2, 1, 2]], dtype=int)),\n",
    "    (\"→(II, ↢)\", np.array([[1, 2], [3, 4]], dtype=int), np.array([[1, 2], [4, 3]], dtype=int)),\n",
    "    (\"→(I, Ⳁ)\", np.array([[1, 2], [3, 4]], dtype=int), np.array([[1, 2], [3, 4]], dtype=int)),\n",
    "    (\"⇄(I,III)\", np.array([[1, 2], [3, 4], [5, 6]], dtype=int), np.array([[5, 6], [3, 4], [1, 2]], dtype=int)),\n",
    "    (\"⇄(I,I)\", np.array([[1, 2], [3, 4]], dtype=int), np.array([[1, 2], [3, 4]], dtype=int)),\n",
    "    (\"⮝(I,I)\", np.array([[1, 2, 3], [4, 5, 6]], dtype=int), np.array([[3, 1, 2], [4, 5, 6]], dtype=int)),\n",
    "    (\"⮝(II,I)\", np.array([[1, 2, 3], [4, 5, 6]], dtype=int), np.array([[1, 2, 3], [6, 4, 5]], dtype=int)),\n",
    "    (\"⟹(↔)\", np.array([[1, 2], [3, 4]], dtype=int), np.array([[2, 1], [4, 3]], dtype=int)),\n",
    "    (\"⟹(⮝(I,I), ↔, ⬒(II))\", np.array([[1, 2], [3, 4]], dtype=int), np.tile(np.array([[1, 2], [4, 3]], dtype=int), (2, 1))),\n",
    "    (\"⊕(I,I,V)\", None, np.array([[5]], dtype=int)),\n",
    "    (\"⊕(III,II,VII)\", None, np.array([[7, 7], [7, 7], [7, 7]], dtype=int)),\n",
    "    (\"⊕(II,II,∅)\", None, np.array([[0, 0], [0, 0]], dtype=int)),\n",
    "    (\"⤨(II)\", np.array([[1, 2], [3, 4]], dtype=int), np.array([[1, 1, 2, 2], [1, 1, 2, 2], [3, 3, 4, 4], [3, 3, 4, 4]], dtype=int)),\n",
    "    (\"⤨(III)\", np.array([[5]], dtype=int), np.array([[5, 5, 5], [5, 5, 5], [5, 5, 5]], dtype=int)),\n",
    "    (\"⧈\", np.array([[0, 0, 0, 0, 0], [0, 1, 1, 0, 0], [0, 1, 0, 0, 0], [0, 0, 0, 0, 0]], dtype=int), np.array([[1, 1], [1, 0]], dtype=int)),\n",
    "    (\"⧈\", np.array([[0, 0], [0, 0]], dtype=int), np.array([[0]], dtype=int)),\n",
    "    (\"⧈\", np.array([[1, 1, 0], [1, 0, 0], [0, 0, 0]], dtype=int), np.array([[1, 1], [1, 0]], dtype=int)),\n",
    "    (\"⧀\", np.array([[1, 2], [3, 4]]), np.array([1, 2, 3, 4])),\n",
    "    (\"⧀\", np.array([[5], [6], [7]]), np.array([5, 6, 7])),\n",
    "    (\"⧀\", np.array([[8, 9, 10]]), np.array([8, 9, 10])),\n",
    "    (\"⧀\", np.array([[0, 0], [0, 0]]), np.array([0, 0, 0, 0])),\n",
    "    (\"⊡(I,I)\", common_input_grid, np.array([[1]], dtype=int)),\n",
    "    (\"⊡(II,III)\", common_input_grid, np.array([[6]], dtype=int)),\n",
    "    (\"⊡(III,II)\", common_input_grid, np.array([[8]], dtype=int)),\n",
    "    (\"↱V\", np.array([[0]]), np.array([[5]], dtype=int)),\n",
    "    (\"≡(↱V,↱V)\", common_input_grid, np.array([[1]], dtype=int)),\n",
    "    (\"≡(↱V,↱X)\", common_input_grid, np.array([[0]], dtype=int)),\n",
    "    (\"≗(Ⳁ,Ⳁ)\", common_input_grid, np.array([[1]], dtype=int)),\n",
    "    (\"≗(Ⳁ,↔)\", asymmetric_grid, np.array([[0]], dtype=int)),\n",
    "    (\"≡(⊡(I,I),↱∅)\", np.array([[0,0],[0,0]], dtype=int), np.array([[1]], dtype=int)),\n",
    "    (\"≡(⊡(I,I),↱∅)\", np.array([[1,1],[1,1]], dtype=int), np.array([[0]], dtype=int)),\n",
    "    (\"⍰(≡(↱I,↱I),Ⳁ,↔)\", common_input_grid, common_input_grid),\n",
    "    (\"⍰(≡(↱I,↱II),Ⳁ,↔)\", common_input_grid, np.fliplr(common_input_grid)),\n",
    "    (\"⍰(≡(⊡(I,I),↱I),Ⳁ,↔)\", common_input_grid, common_input_grid),\n",
    "    (\"⍰(≡(⊡(I,I),↱∅),Ⳁ,↔)\", common_input_grid, np.fliplr(common_input_grid)),\n",
    "    (\"⟹(⮝(I,I), ⟹(↔, ⬒(II)))\", np.array([[1, 2], [3, 4]], dtype=int), np.tile(np.array([[1, 2], [4, 3]], dtype=int), (2, 1))),\n",
    "    (\"▦(III,III,\\\"∅∅I;∅II;I∅∅\\\")\", common_input_grid, np.block([[np.full((3, 3), False, dtype=bool), np.full((3, 3), False, dtype=bool), np.full((3, 3), True, dtype=bool)], [np.full((3, 3), False, dtype=bool), np.full((3, 3), True, dtype=bool), np.full((3, 3), True, dtype=bool)], [np.full((3, 3), True, dtype=bool), np.full((3, 3), False, dtype=bool), np.full((3, 3), False, dtype=bool)]])),\n",
    "    (\"⧎(⊕(IX,IX,VII), ▦(III,III,\\\"I∅I;∅I∅;I∅I\\\"), ⊕(IX,IX,∅))\", np.array([[0]], dtype=int), np.array([[7,7,7,0,0,0,7,7,7],[7,7,7,0,0,0,7,7,7],[7,7,7,0,0,0,7,7,7],[0,0,0,7,7,7,0,0,0],[0,0,0,7,7,7,0,0,0],[0,0,0,7,7,7,0,0,0],[7,7,7,0,0,0,7,7,7],[7,7,7,0,0,0,7,7,7],[7,7,7,0,0,0,7,7,7]], dtype=int)),\n",
    "    (\"⊕(IV,IV,∅)\", np.zeros((4,4), dtype=int), np.array([[0,0,0,0],[0,0,0,0],[0,0,0,0],[0,0,0,0]], dtype=int)),\n",
    "    (\"⟹(◨(II), ⬒(II))\", np.array([[0, 1], [1, 0]], dtype=int), np.array([[0,1,0,1],[1,0,1,0],[0,1,0,1],[1,0,1,0]], dtype=int)),\n",
    "    (\"⧎(⟹(◨(II), ⬒(II)), ⤨(II), ⊕(IV,IV,∅))\", np.array([[0, 1], [1, 0]], dtype=int), np.array([[0,0,0,1],[0,0,1,0],[0,1,0,0],[1,0,0,0]], dtype=int)),    \n",
    "    \n",
    "\n",
    "2.  **Input-Output Grid Examples:**\n",
    "    This section provides a set of `(input_grid, output_grid)` pairs. Your synthesized rule must correctly generalize to all of them.\n",
    "    {symbolics_grids}\n",
    "\n",
    "---\n",
    "**Rule Requirements:**\n",
    "* The rule must be expressed as a **single symbolic DSL string**.\n",
    "* It must use only the commands specified in the provided DSL documentation.\n",
    "* It must be concise and represent a **generalizable transformation**, not just a specific solution for one example.\n",
    "\n",
    "---\n",
    "**Strategy (Recommended):**\n",
    "1.  Carefully analyze each `input_grid` and its corresponding `output_grid`.\n",
    "2.  Identify the core transformation logic: What changes? What stays the same? Are there patterns of color changes, shape manipulations, positional shifts, or structural compositions?\n",
    "3.  Consider how available DSL commands can be combined or parameterized to achieve this observed transformation.\n",
    "4.  Formulate the most concise and general DSL string that applies to *all* provided examples.\n",
    "\n",
    "---\n",
    "**Output Format:**\n",
    "Please provide only the DSL rule string. Start your response with `[DSL_RULE_START]` and end with `[DSL_RULE_END]`.\n",
    "\"\"\""
   ]
  },
  {
   "cell_type": "code",
   "execution_count": 87,
   "metadata": {
    "metadata": {}
   },
   "outputs": [
    {
     "name": "stdout",
     "output_type": "stream",
     "text": [
      "\n",
      "You are an advanced AI specializing in synthesizing solutions for Abstraction and Reasoning Corpus (ARC) puzzles.\n",
      "\n",
      "---\n",
      "**Task:**\n",
      "Your primary task is to discover and formulate a *single, generalizable DSL rule* that transforms the given `input_grid` into the corresponding `output_grid` for *all* provided examples.\n",
      "\n",
      "---\n",
      "Valid test cases\n",
      "(\"Ⳁ\", np.array([[1, 0], [0, 1]], dtype=int), np.array([[1, 0], [0, 1]], dtype=int)),\n",
      "    (\"↔\", np.array([[1, 2], [3, 4]], dtype=int), np.array([[2, 1], [4, 3]], dtype=int)),\n",
      "    (\"→(I, ↢)\", np.array([[1, 2], [3, 4]], dtype=int), np.array([[2, 1], [3, 4]], dtype=int)),\n",
      "    (\"⟹(→(I,↢),↔)\", np.array([[1, 2], [3, 4]], dtype=int), np.array([[1, 2], [4, 3]], dtype=int)),\n",
      "    (\"⬒(II)\",  np.array([[1, 0], [0, 1]], dtype=int), np.tile( np.array([[1, 0], [0, 1]], dtype=int), (2, 1))),\n",
      "    (\"⇄(I,II)\", np.array([[1, 2], [3, 4]], dtype=int), np.array([[3, 4], [1, 2]], dtype=int)),\n",
      "    (\"⮝(I,II)\", np.array([[1, 2, 3], [4, 5, 6]], dtype=int), np.array([[2, 3, 1], [4, 5, 6]], dtype=int)),\n",
      "    (\"↕\", np.array([[1, 2], [3, 4]], dtype=int), np.array([[3, 4], [1, 2]], dtype=int)),\n",
      "    (\"↕\", np.array([[1, 2, 3], [4, 5, 6], [7, 8, 9]], dtype=int), np.array([[7, 8, 9], [4, 5, 6], [1, 2, 3]], dtype=int)),\n",
      "    (\"⮞(I,II)\", np.array([[1, 2, 3], [4, 5, 6], [7, 8, 9]], dtype=int), np.array([[4, 2, 3], [7, 5, 6], [1, 8, 9]], dtype=int)),\n",
      "    (\"⮞(II,I)\", np.array([[1, 2, 3], [4, 5, 6], [7, 8, 9]], dtype=int), np.array([[1, 8, 3], [4, 2, 6], [7, 5, 9]], dtype=int)),\n",
      "    (\"◨(II)\", np.array([[1, 0], [0, 1]], dtype=int), np.tile(np.array([[1, 0], [0, 1]], dtype=int), (1, 2))),\n",
      "    (\"◨(III)\", np.array([[1, 2]], dtype=int), np.array([[1, 2, 1, 2, 1, 2]], dtype=int)),\n",
      "    (\"→(II, ↢)\", np.array([[1, 2], [3, 4]], dtype=int), np.array([[1, 2], [4, 3]], dtype=int)),\n",
      "    (\"→(I, Ⳁ)\", np.array([[1, 2], [3, 4]], dtype=int), np.array([[1, 2], [3, 4]], dtype=int)),\n",
      "    (\"⇄(I,III)\", np.array([[1, 2], [3, 4], [5, 6]], dtype=int), np.array([[5, 6], [3, 4], [1, 2]], dtype=int)),\n",
      "    (\"⇄(I,I)\", np.array([[1, 2], [3, 4]], dtype=int), np.array([[1, 2], [3, 4]], dtype=int)),\n",
      "    (\"⮝(I,I)\", np.array([[1, 2, 3], [4, 5, 6]], dtype=int), np.array([[3, 1, 2], [4, 5, 6]], dtype=int)),\n",
      "    (\"⮝(II,I)\", np.array([[1, 2, 3], [4, 5, 6]], dtype=int), np.array([[1, 2, 3], [6, 4, 5]], dtype=int)),\n",
      "    (\"⟹(↔)\", np.array([[1, 2], [3, 4]], dtype=int), np.array([[2, 1], [4, 3]], dtype=int)),\n",
      "    (\"⟹(⮝(I,I), ↔, ⬒(II))\", np.array([[1, 2], [3, 4]], dtype=int), np.tile(np.array([[1, 2], [4, 3]], dtype=int), (2, 1))),\n",
      "    (\"⊕(I,I,V)\", None, np.array([[5]], dtype=int)),\n",
      "    (\"⊕(III,II,VII)\", None, np.array([[7, 7], [7, 7], [7, 7]], dtype=int)),\n",
      "    (\"⊕(II,II,∅)\", None, np.array([[0, 0], [0, 0]], dtype=int)),\n",
      "    (\"⤨(II)\", np.array([[1, 2], [3, 4]], dtype=int), np.array([[1, 1, 2, 2], [1, 1, 2, 2], [3, 3, 4, 4], [3, 3, 4, 4]], dtype=int)),\n",
      "    (\"⤨(III)\", np.array([[5]], dtype=int), np.array([[5, 5, 5], [5, 5, 5], [5, 5, 5]], dtype=int)),\n",
      "    (\"⧈\", np.array([[0, 0, 0, 0, 0], [0, 1, 1, 0, 0], [0, 1, 0, 0, 0], [0, 0, 0, 0, 0]], dtype=int), np.array([[1, 1], [1, 0]], dtype=int)),\n",
      "    (\"⧈\", np.array([[0, 0], [0, 0]], dtype=int), np.array([[0]], dtype=int)),\n",
      "    (\"⧈\", np.array([[1, 1, 0], [1, 0, 0], [0, 0, 0]], dtype=int), np.array([[1, 1], [1, 0]], dtype=int)),\n",
      "    (\"⧀\", np.array([[1, 2], [3, 4]]), np.array([1, 2, 3, 4])),\n",
      "    (\"⧀\", np.array([[5], [6], [7]]), np.array([5, 6, 7])),\n",
      "    (\"⧀\", np.array([[8, 9, 10]]), np.array([8, 9, 10])),\n",
      "    (\"⧀\", np.array([[0, 0], [0, 0]]), np.array([0, 0, 0, 0])),\n",
      "    (\"⊡(I,I)\", common_input_grid, np.array([[1]], dtype=int)),\n",
      "    (\"⊡(II,III)\", common_input_grid, np.array([[6]], dtype=int)),\n",
      "    (\"⊡(III,II)\", common_input_grid, np.array([[8]], dtype=int)),\n",
      "    (\"↱V\", np.array([[0]]), np.array([[5]], dtype=int)),\n",
      "    (\"≡(↱V,↱V)\", common_input_grid, np.array([[1]], dtype=int)),\n",
      "    (\"≡(↱V,↱X)\", common_input_grid, np.array([[0]], dtype=int)),\n",
      "    (\"≗(Ⳁ,Ⳁ)\", common_input_grid, np.array([[1]], dtype=int)),\n",
      "    (\"≗(Ⳁ,↔)\", asymmetric_grid, np.array([[0]], dtype=int)),\n",
      "    (\"≡(⊡(I,I),↱∅)\", np.array([[0,0],[0,0]], dtype=int), np.array([[1]], dtype=int)),\n",
      "    (\"≡(⊡(I,I),↱∅)\", np.array([[1,1],[1,1]], dtype=int), np.array([[0]], dtype=int)),\n",
      "    (\"⍰(≡(↱I,↱I),Ⳁ,↔)\", common_input_grid, common_input_grid),\n",
      "    (\"⍰(≡(↱I,↱II),Ⳁ,↔)\", common_input_grid, np.fliplr(common_input_grid)),\n",
      "    (\"⍰(≡(⊡(I,I),↱I),Ⳁ,↔)\", common_input_grid, common_input_grid),\n",
      "    (\"⍰(≡(⊡(I,I),↱∅),Ⳁ,↔)\", common_input_grid, np.fliplr(common_input_grid)),\n",
      "    (\"⟹(⮝(I,I), ⟹(↔, ⬒(II)))\", np.array([[1, 2], [3, 4]], dtype=int), np.tile(np.array([[1, 2], [4, 3]], dtype=int), (2, 1))),\n",
      "    (\"▦(III,III,\"∅∅I;∅II;I∅∅\")\", common_input_grid, np.block([[np.full((3, 3), False, dtype=bool), np.full((3, 3), False, dtype=bool), np.full((3, 3), True, dtype=bool)], [np.full((3, 3), False, dtype=bool), np.full((3, 3), True, dtype=bool), np.full((3, 3), True, dtype=bool)], [np.full((3, 3), True, dtype=bool), np.full((3, 3), False, dtype=bool), np.full((3, 3), False, dtype=bool)]])),\n",
      "    (\"⧎(⊕(IX,IX,VII), ▦(III,III,\"I∅I;∅I∅;I∅I\"), ⊕(IX,IX,∅))\", np.array([[0]], dtype=int), np.array([[7,7,7,0,0,0,7,7,7],[7,7,7,0,0,0,7,7,7],[7,7,7,0,0,0,7,7,7],[0,0,0,7,7,7,0,0,0],[0,0,0,7,7,7,0,0,0],[0,0,0,7,7,7,0,0,0],[7,7,7,0,0,0,7,7,7],[7,7,7,0,0,0,7,7,7],[7,7,7,0,0,0,7,7,7]], dtype=int)),\n",
      "    (\"⊕(IV,IV,∅)\", np.zeros((4,4), dtype=int), np.array([[0,0,0,0],[0,0,0,0],[0,0,0,0],[0,0,0,0]], dtype=int)),\n",
      "    (\"⟹(◨(II), ⬒(II))\", np.array([[0, 1], [1, 0]], dtype=int), np.array([[0,1,0,1],[1,0,1,0],[0,1,0,1],[1,0,1,0]], dtype=int)),\n",
      "    (\"⧎(⟹(◨(II), ⬒(II)), ⤨(II), ⊕(IV,IV,∅))\", np.array([[0, 1], [1, 0]], dtype=int), np.array([[0,0,0,1],[0,0,1,0],[0,1,0,0],[1,0,0,0]], dtype=int)),    \n",
      "    \n",
      "\n",
      "2.  **Input-Output Grid Examples:**\n",
      "    This section provides a set of `(input_grid, output_grid)` pairs. Your synthesized rule must correctly generalize to all of them.\n",
      "    --- VARIANT: katakana_bk ---\n",
      "\n",
      "Example 1:\n",
      "Input:\n",
      "∅ ∅ ∅ ∅ ∅ ∅ ∅ ハ ハ ∅ ∅ ∅ ∅ ∅\n",
      "∅ ∅ ∅ ∅ ∅ ∅ ∅ ∅ ハ ハ ハ ∅ ∅ ∅\n",
      "∅ ∅ ∅ ∅ ∅ ∅ ∅ ∅ ∅ ∅ ハ ∅ ハ ∅\n",
      "∅ ∅ ∅ ∅ ∅ ハ ハ ハ ハ ∅ ハ ハ ハ ∅\n",
      "∅ ∅ ∅ ∅ ハ ハ ∅ ∅ ハ ハ ハ ∅ ハ ハ\n",
      "∅ ∅ ∅ ∅ ∅ ∅ ∅ ハ ハ ∅ ∅ ∅ ハ ∅\n",
      "∅ ∅ ∅ ∅ ∅ ∅ ハ ハ ∅ ∅ ∅ ハ ハ ∅\n",
      "∅ ∅ ∅ ∅ ∅ ∅ ∅ ∅ ∅ ハ ハ ハ ∅ ∅\n",
      "∅ ∅ ∅ ∅ ∅ ∅ ∅ ∅ ∅ ∅ ∅ ∅ ∅ ∅\n",
      "∅ ∅ ∅ ∅ ∅ ∅ ∅ ∅ ∅ ∅ ∅ ∅ ∅ ∅\n",
      "∅ ∅ ∅ ∅ レ レ レ ∅ ∅ ∅ ∅ ∅ ∅ ∅\n",
      "∅ ∅ ∅ ∅ レ ∅ レ ∅ ∅ ∅ ∅ ∅ ∅ ∅\n",
      "∅ ∅ ∅ ∅ ∅ レ ∅ ∅ ∅ ∅ ∅ ∅ ∅ ∅\n",
      "∅ ∅ ∅ ∅ ∅ ∅ ∅ ∅ ∅ ∅ ∅ ∅ ∅ ∅\n",
      "Output:\n",
      "∅ ∅ ∅ ∅ ∅ ∅ ∅ レ レ ∅ ∅ ∅ ∅ ∅\n",
      "∅ ∅ ∅ ∅ ∅ ∅ ∅ ∅ レ レ レ ∅ ∅ ∅\n",
      "∅ ∅ ∅ ∅ ∅ ∅ ∅ ∅ ∅ ∅ レ ∅ レ ∅\n",
      "∅ ∅ ∅ ∅ ∅ レ レ レ レ ∅ レ レ レ ∅\n",
      "∅ ∅ ∅ ∅ レ レ ∅ ∅ レ レ レ ∅ レ レ\n",
      "∅ ∅ ∅ ∅ ∅ ∅ ∅ レ レ ∅ ∅ ∅ レ ∅\n",
      "∅ ∅ ∅ ∅ ∅ ∅ レ レ ∅ ∅ ∅ レ レ ∅\n",
      "∅ ∅ ∅ ∅ ∅ ∅ ∅ ∅ ∅ レ レ レ ∅ ∅\n",
      "∅ ∅ ∅ ∅ ∅ ∅ ∅ ∅ ∅ ∅ ∅ ∅ ∅ ∅\n",
      "∅ ∅ ∅ ∅ ∅ ∅ ∅ ∅ ∅ ∅ ∅ ∅ ∅ ∅\n",
      "∅ ∅ ∅ ∅ ∅ ∅ ∅ ∅ ∅ ∅ ∅ ∅ ∅ ∅\n",
      "∅ ∅ ∅ ∅ ∅ ∅ ∅ ∅ ∅ ∅ ∅ ∅ ∅ ∅\n",
      "∅ ∅ ∅ ∅ ∅ ∅ ∅ ∅ ∅ ∅ ∅ ∅ ∅ ∅\n",
      "∅ ∅ ∅ ∅ ∅ ∅ ∅ ∅ ∅ ∅ ∅ ∅ ∅ ∅\n",
      "\n",
      "Example 2:\n",
      "Input:\n",
      "∅ ∅ ∅ ∅ ∅ ∅ ∅ ∅ ∅ ∅ ∅ ∅ ∅ ∅\n",
      "∅ ∅ ∅ ∅ ∅ ∅ ∅ ∅ ∅ ∅ ∅ ∅ ∅ ∅\n",
      "∅ ∅ ∅ ∅ ハ ハ ∅ ハ ∅ ハ ハ ∅ ∅ ∅\n",
      "∅ ∅ ∅ ∅ ハ ∅ ハ ∅ ハ ∅ ハ ∅ ∅ ∅\n",
      "∅ ∅ ∅ ∅ ハ ハ ∅ ハ ∅ ハ ハ ∅ ∅ ∅\n",
      "∅ ∅ ∅ ∅ ∅ ∅ ∅ ∅ ∅ ∅ ∅ ∅ ∅ ∅\n",
      "∅ ∅ ∅ ∅ ∅ ∅ ∅ ∅ ∅ ∅ ∅ ∅ ∅ ∅\n",
      "∅ ∅ ∅ ∅ ∅ ∅ ∅ ∅ ∅ ∅ ∅ ∅ ∅ ∅\n",
      "∅ ∅ ∅ ∅ ∅ ∅ ∅ ∅ ∅ ∅ ∅ ∅ ∅ ∅\n",
      "∅ ∅ ∅ ∅ ∅ ∅ ∅ ∅ ∅ ∅ ∅ ∅ ∅ ∅\n",
      "∅ ∅ ∅ レ ∅ レ ∅ ∅ ∅ ∅ ∅ ∅ ∅ ∅\n",
      "∅ ∅ ∅ ∅ レ ∅ ∅ ∅ ∅ ∅ ∅ ∅ ∅ ∅\n",
      "∅ ∅ ∅ レ レ レ ∅ ∅ ∅ ∅ ∅ ∅ ∅ ∅\n",
      "∅ ∅ ∅ ∅ ∅ ∅ ∅ ∅ ∅ ∅ ∅ ∅ ∅ ∅\n",
      "Output:\n",
      "∅ ∅ ∅ ∅ ∅ ∅ ∅ ∅ ∅ ∅ ∅ ∅ ∅ ∅\n",
      "∅ ∅ ∅ ∅ ∅ ∅ ∅ ∅ ∅ ∅ ∅ ∅ ∅ ∅\n",
      "∅ ∅ ∅ ∅ レ レ ∅ レ ∅ レ レ ∅ ∅ ∅\n",
      "∅ ∅ ∅ ∅ レ ∅ レ ∅ レ ∅ レ ∅ ∅ ∅\n",
      "∅ ∅ ∅ ∅ レ レ ∅ レ ∅ レ レ ∅ ∅ ∅\n",
      "∅ ∅ ∅ ∅ ∅ ∅ ∅ ∅ ∅ ∅ ∅ ∅ ∅ ∅\n",
      "∅ ∅ ∅ ∅ ∅ ∅ ∅ ∅ ∅ ∅ ∅ ∅ ∅ ∅\n",
      "∅ ∅ ∅ ∅ ∅ ∅ ∅ ∅ ∅ ∅ ∅ ∅ ∅ ∅\n",
      "∅ ∅ ∅ ∅ ∅ ∅ ∅ ∅ ∅ ∅ ∅ ∅ ∅ ∅\n",
      "∅ ∅ ∅ ∅ ∅ ∅ ∅ ∅ ∅ ∅ ∅ ∅ ∅ ∅\n",
      "∅ ∅ ∅ ∅ ∅ ∅ ∅ ∅ ∅ ∅ ∅ ∅ ∅ ∅\n",
      "∅ ∅ ∅ ∅ ∅ ∅ ∅ ∅ ∅ ∅ ∅ ∅ ∅ ∅\n",
      "∅ ∅ ∅ ∅ ∅ ∅ ∅ ∅ ∅ ∅ ∅ ∅ ∅ ∅\n",
      "∅ ∅ ∅ ∅ ∅ ∅ ∅ ∅ ∅ ∅ ∅ ∅ ∅ ∅\n",
      "\n",
      "Example 3:\n",
      "Input:\n",
      "∅ ∅ ∅ ハ ∅ ∅ ∅ ハ ∅ ∅ ∅ ∅ ∅ ∅\n",
      "∅ ハ ∅ ハ ∅ ハ ∅ ハ ∅ ハ ∅ ∅ ∅ ∅\n",
      "∅ ハ ハ ハ ハ ハ ハ ハ ハ ハ ∅ ∅ ∅ ∅\n",
      "∅ ハ ∅ ハ ∅ ハ ∅ ハ ∅ ハ ∅ ∅ ∅ ∅\n",
      "∅ ハ ∅ ∅ ∅ ハ ∅ ∅ ∅ ハ ∅ ∅ ∅ ∅\n",
      "∅ ∅ ∅ ∅ ∅ ∅ ∅ ∅ ∅ ∅ ∅ ∅ ∅ ∅\n",
      "∅ ∅ ∅ ∅ ∅ ∅ ∅ ∅ ∅ ∅ ∅ ∅ ∅ ∅\n",
      "∅ ∅ ∅ ∅ ∅ ∅ ∅ ∅ ∅ ∅ ∅ ∅ ∅ ∅\n",
      "∅ ∅ ∅ ∅ ∅ ∅ ∅ ∅ ∅ ∅ ∅ ∅ ∅ ∅\n",
      "∅ ∅ ∅ ∅ ∅ ∅ ∅ ∅ レ ∅ ∅ ∅ ∅ ∅\n",
      "∅ ∅ ∅ ∅ ∅ ∅ ∅ レ レ レ ∅ ∅ ∅ ∅\n",
      "∅ ∅ ∅ ∅ ∅ ∅ ∅ ∅ レ ∅ ∅ ∅ ∅ ∅\n",
      "∅ ∅ ∅ ∅ ∅ ∅ ∅ ∅ ∅ ∅ ∅ ∅ ∅ ∅\n",
      "∅ ∅ ∅ ∅ ∅ ∅ ∅ ∅ ∅ ∅ ∅ ∅ ∅ ∅\n",
      "Output:\n",
      "∅ ∅ ∅ レ ∅ ∅ ∅ レ ∅ ∅ ∅ ∅ ∅ ∅\n",
      "∅ レ ∅ レ ∅ レ ∅ レ ∅ レ ∅ ∅ ∅ ∅\n",
      "∅ レ レ レ レ レ レ レ レ レ ∅ ∅ ∅ ∅\n",
      "∅ レ ∅ レ ∅ レ ∅ レ ∅ レ ∅ ∅ ∅ ∅\n",
      "∅ レ ∅ ∅ ∅ レ ∅ ∅ ∅ レ ∅ ∅ ∅ ∅\n",
      "∅ ∅ ∅ ∅ ∅ ∅ ∅ ∅ ∅ ∅ ∅ ∅ ∅ ∅\n",
      "∅ ∅ ∅ ∅ ∅ ∅ ∅ ∅ ∅ ∅ ∅ ∅ ∅ ∅\n",
      "∅ ∅ ∅ ∅ ∅ ∅ ∅ ∅ ∅ ∅ ∅ ∅ ∅ ∅\n",
      "∅ ∅ ∅ ∅ ∅ ∅ ∅ ∅ ∅ ∅ ∅ ∅ ∅ ∅\n",
      "∅ ∅ ∅ ∅ ∅ ∅ ∅ ∅ ∅ ∅ ∅ ∅ ∅ ∅\n",
      "∅ ∅ ∅ ∅ ∅ ∅ ∅ ∅ ∅ ∅ ∅ ∅ ∅ ∅\n",
      "∅ ∅ ∅ ∅ ∅ ∅ ∅ ∅ ∅ ∅ ∅ ∅ ∅ ∅\n",
      "∅ ∅ ∅ ∅ ∅ ∅ ∅ ∅ ∅ ∅ ∅ ∅ ∅ ∅\n",
      "∅ ∅ ∅ ∅ ∅ ∅ ∅ ∅ ∅ ∅ ∅ ∅ ∅ ∅\n",
      "\n",
      "Example 4:\n",
      "Input:\n",
      "∅ ∅ ∅ ∅ ∅ ∅ ∅ ∅ ∅ ∅ ∅ ∅ ∅ ∅\n",
      "∅ ∅ ∅ ∅ ∅ ∅ ∅ ∅ ハ ∅ ∅ ∅ ∅ ∅\n",
      "∅ ∅ ∅ ∅ ∅ ハ ハ ハ ∅ ハ ハ ∅ ∅ ∅\n",
      "∅ ∅ ∅ ∅ ∅ ∅ ハ ∅ ハ ハ ∅ ∅ ∅ ∅\n",
      "∅ ∅ ∅ ∅ ∅ ∅ ∅ ハ ∅ ∅ ハ ハ ∅ ∅\n",
      "∅ ∅ ∅ ∅ ∅ ∅ ∅ ∅ ハ ハ ∅ ハ ∅ ∅\n",
      "∅ ∅ ∅ ∅ ∅ ∅ ∅ ∅ ∅ ∅ ハ ∅ ∅ ∅\n",
      "∅ ∅ ∅ ∅ ∅ ∅ ∅ ∅ ∅ ∅ ∅ ∅ ∅ ∅\n",
      "∅ ∅ レ ∅ レ ∅ ∅ ∅ ∅ ∅ ∅ ∅ ∅ ∅\n",
      "∅ ∅ ∅ レ ∅ ∅ ∅ ∅ ∅ ∅ ∅ ∅ ∅ ∅\n",
      "∅ ∅ レ レ レ ∅ ∅ ∅ ∅ ∅ ∅ ∅ ∅ ∅\n",
      "∅ ∅ ∅ ∅ ∅ ∅ ∅ ∅ ∅ ∅ ∅ ∅ ∅ ∅\n",
      "∅ ∅ ∅ ∅ ∅ ∅ ∅ ∅ ∅ ∅ ∅ ∅ ∅ ∅\n",
      "∅ ∅ ∅ ∅ ∅ ∅ ∅ ∅ ∅ ∅ ∅ ∅ ∅ ∅\n",
      "Output:\n",
      "∅ ∅ ∅ ∅ ∅ ∅ ∅ ∅ ∅ ∅ ∅ ∅ ∅ ∅\n",
      "∅ ∅ ∅ ∅ ∅ ∅ ∅ ∅ レ ∅ ∅ ∅ ∅ ∅\n",
      "∅ ∅ ∅ ∅ ∅ レ レ レ ∅ レ レ ∅ ∅ ∅\n",
      "∅ ∅ ∅ ∅ ∅ ∅ レ ∅ レ レ ∅ ∅ ∅ ∅\n",
      "∅ ∅ ∅ ∅ ∅ ∅ ∅ レ ∅ ∅ レ レ ∅ ∅\n",
      "∅ ∅ ∅ ∅ ∅ ∅ ∅ ∅ レ レ ∅ レ ∅ ∅\n",
      "∅ ∅ ∅ ∅ ∅ ∅ ∅ ∅ ∅ ∅ レ ∅ ∅ ∅\n",
      "∅ ∅ ∅ ∅ ∅ ∅ ∅ ∅ ∅ ∅ ∅ ∅ ∅ ∅\n",
      "∅ ∅ ∅ ∅ ∅ ∅ ∅ ∅ ∅ ∅ ∅ ∅ ∅ ∅\n",
      "∅ ∅ ∅ ∅ ∅ ∅ ∅ ∅ ∅ ∅ ∅ ∅ ∅ ∅\n",
      "∅ ∅ ∅ ∅ ∅ ∅ ∅ ∅ ∅ ∅ ∅ ∅ ∅ ∅\n",
      "∅ ∅ ∅ ∅ ∅ ∅ ∅ ∅ ∅ ∅ ∅ ∅ ∅ ∅\n",
      "∅ ∅ ∅ ∅ ∅ ∅ ∅ ∅ ∅ ∅ ∅ ∅ ∅ ∅\n",
      "∅ ∅ ∅ ∅ ∅ ∅ ∅ ∅ ∅ ∅ ∅ ∅ ∅ ∅\n",
      "\n",
      "Example 5:\n",
      "Input:\n",
      "∅ ∅ ∅ ∅ ∅ ∅ ∅ ∅ ∅ ∅ ∅ ∅ ∅ ∅\n",
      "∅ ∅ ∅ ∅ ∅ ∅ ∅ ハ ハ ∅ ハ ハ ∅ ∅\n",
      "∅ ∅ ∅ ∅ ∅ ∅ ∅ ∅ ハ ハ ハ ∅ ∅ ∅\n",
      "∅ ∅ ∅ ∅ ∅ ハ ハ ハ ハ ∅ ∅ ∅ ∅ ∅\n",
      "∅ ∅ ∅ ∅ ハ ハ ∅ ハ ∅ ∅ ハ ハ ∅ ∅\n",
      "∅ ∅ ∅ ∅ ∅ ∅ ∅ ハ ハ ハ ハ ∅ ∅ ∅\n",
      "∅ ∅ ∅ ∅ ∅ ∅ ∅ ∅ ハ ∅ ハ ∅ ∅ ∅\n",
      "∅ ∅ ∅ ∅ ∅ ∅ ハ ハ ハ ∅ ハ ハ ハ ∅\n",
      "∅ ∅ ∅ ∅ ∅ ∅ ハ ∅ ∅ ∅ ∅ ∅ ハ ∅\n",
      "∅ ∅ レ ∅ ∅ ∅ ∅ ∅ ∅ ∅ ∅ ∅ ∅ ∅\n",
      "∅ レ レ レ ∅ ∅ ∅ ∅ ∅ ∅ ∅ ∅ ∅ ∅\n",
      "∅ ∅ レ ∅ ∅ ∅ ∅ ∅ ∅ ∅ ∅ ∅ ∅ ∅\n",
      "∅ ∅ ∅ ∅ ∅ ∅ ∅ ∅ ∅ ∅ ∅ ∅ ∅ ∅\n",
      "∅ ∅ ∅ ∅ ∅ ∅ ∅ ∅ ∅ ∅ ∅ ∅ ∅ ∅\n",
      "Output:\n",
      "∅ ∅ ∅ ∅ ∅ ∅ ∅ ∅ ∅ ∅ ∅ ∅ ∅ ∅\n",
      "∅ ∅ ∅ ∅ ∅ ∅ ∅ レ レ ∅ レ レ ∅ ∅\n",
      "∅ ∅ ∅ ∅ ∅ ∅ ∅ ∅ レ レ レ ∅ ∅ ∅\n",
      "∅ ∅ ∅ ∅ ∅ レ レ レ レ ∅ ∅ ∅ ∅ ∅\n",
      "∅ ∅ ∅ ∅ レ レ ∅ レ ∅ ∅ レ レ ∅ ∅\n",
      "∅ ∅ ∅ ∅ ∅ ∅ ∅ レ レ レ レ ∅ ∅ ∅\n",
      "∅ ∅ ∅ ∅ ∅ ∅ ∅ ∅ レ ∅ レ ∅ ∅ ∅\n",
      "∅ ∅ ∅ ∅ ∅ ∅ レ レ レ ∅ レ レ レ ∅\n",
      "∅ ∅ ∅ ∅ ∅ ∅ レ ∅ ∅ ∅ ∅ ∅ レ ∅\n",
      "∅ ∅ ∅ ∅ ∅ ∅ ∅ ∅ ∅ ∅ ∅ ∅ ∅ ∅\n",
      "∅ ∅ ∅ ∅ ∅ ∅ ∅ ∅ ∅ ∅ ∅ ∅ ∅ ∅\n",
      "∅ ∅ ∅ ∅ ∅ ∅ ∅ ∅ ∅ ∅ ∅ ∅ ∅ ∅\n",
      "∅ ∅ ∅ ∅ ∅ ∅ ∅ ∅ ∅ ∅ ∅ ∅ ∅ ∅\n",
      "∅ ∅ ∅ ∅ ∅ ∅ ∅ ∅ ∅ ∅ ∅ ∅ ∅ ∅\n",
      "\n",
      "Test Input:\n",
      "∅ ∅ ∅ ∅ ∅ ∅ ∅ ∅ ∅ ∅ ∅ ∅ ∅ ∅\n",
      "∅ ∅ ∅ ∅ ∅ ハ ハ ハ ハ ハ ハ ハ ハ ハ\n",
      "∅ ∅ ∅ ∅ ∅ ハ ∅ ∅ ∅ ハ ∅ ハ ∅ ハ\n",
      "∅ ∅ ∅ ∅ ∅ ハ ∅ ハ ∅ ハ ∅ ∅ ∅ ハ\n",
      "∅ ∅ ∅ ∅ ∅ ハ ハ ハ ハ ハ ハ ハ ハ ハ\n",
      "∅ ∅ ∅ ∅ ∅ ∅ ∅ ∅ ∅ ∅ ∅ ∅ ∅ ∅\n",
      "∅ ∅ ∅ ∅ ∅ ∅ ∅ ∅ ∅ ∅ ∅ ∅ ∅ ∅\n",
      "∅ ∅ ∅ ∅ ∅ ∅ ∅ ∅ ∅ ∅ ∅ ∅ ∅ ∅\n",
      "∅ ∅ ∅ ∅ ∅ ∅ レ レ レ ∅ ∅ ∅ ∅ ∅\n",
      "∅ ∅ ∅ ∅ ∅ ∅ レ ∅ レ ∅ ∅ ∅ ∅ ∅\n",
      "∅ ∅ ∅ ∅ ∅ ∅ ∅ レ ∅ ∅ ∅ ∅ ∅ ∅\n",
      "∅ ∅ ∅ ∅ ∅ ∅ ∅ ∅ ∅ ∅ ∅ ∅ ∅ ∅\n",
      "∅ ∅ ∅ ∅ ∅ ∅ ∅ ∅ ∅ ∅ ∅ ∅ ∅ ∅\n",
      "∅ ∅ ∅ ∅ ∅ ∅ ∅ ∅ ∅ ∅ ∅ ∅ ∅ ∅\n",
      "\n",
      "---\n",
      "**Rule Requirements:**\n",
      "* The rule must be expressed as a **single symbolic DSL string**.\n",
      "* It must use only the commands specified in the provided DSL documentation.\n",
      "* It must be concise and represent a **generalizable transformation**, not just a specific solution for one example.\n",
      "\n",
      "---\n",
      "**Strategy (Recommended):**\n",
      "1.  Carefully analyze each `input_grid` and its corresponding `output_grid`.\n",
      "2.  Identify the core transformation logic: What changes? What stays the same? Are there patterns of color changes, shape manipulations, positional shifts, or structural compositions?\n",
      "3.  Consider how available DSL commands can be combined or parameterized to achieve this observed transformation.\n",
      "4.  Formulate the most concise and general DSL string that applies to *all* provided examples.\n",
      "\n",
      "---\n",
      "**Output Format:**\n",
      "Please provide only the DSL rule string. Start your response with `[DSL_RULE_START]` and end with `[DSL_RULE_END]`.\n",
      "\n"
     ]
    }
   ],
   "source": [
    "print(prompt)"
   ]
  },
  {
   "cell_type": "code",
   "execution_count": 108,
   "metadata": {
    "metadata": {}
   },
   "outputs": [],
   "source": [
    "rule = \"⇒(I,∅)\"\n",
    "\n"
   ]
  },
  {
   "cell_type": "code",
   "execution_count": 109,
   "metadata": {
    "metadata": {}
   },
   "outputs": [
    {
     "ename": "ValueError",
     "evalue": "Could not parse symbolic token: '⇒(I,∅)'",
     "output_type": "error",
     "traceback": [
      "\u001b[0;31m---------------------------------------------------------------------------\u001b[0m",
      "\u001b[0;31mValueError\u001b[0m                                Traceback (most recent call last)",
      "Cell \u001b[0;32mIn[109], line 4\u001b[0m\n\u001b[1;32m      1\u001b[0m \u001b[38;5;28;01mfrom\u001b[39;00m \u001b[38;5;21;01mcore\u001b[39;00m\u001b[38;5;21;01m.\u001b[39;00m\u001b[38;5;21;01mdsl_symbolic_interpreter\u001b[39;00m \u001b[38;5;28;01mimport\u001b[39;00m SymbolicRuleParser\n\u001b[1;32m      3\u001b[0m parser \u001b[38;5;241m=\u001b[39m SymbolicRuleParser()\n\u001b[0;32m----> 4\u001b[0m command \u001b[38;5;241m=\u001b[39m \u001b[43mparser\u001b[49m\u001b[38;5;241;43m.\u001b[39;49m\u001b[43mparse_rule\u001b[49m\u001b[43m(\u001b[49m\u001b[43mrule\u001b[49m\u001b[43m)\u001b[49m\n\u001b[1;32m      6\u001b[0m \u001b[38;5;66;03m# # Execute the command\u001b[39;00m\n",
      "File \u001b[0;32m~/ssd_storage/python/arcprize2025/sources/core/dsl_symbolic_interpreter.py:304\u001b[0m, in \u001b[0;36mSymbolicRuleParser.parse_rule\u001b[0;34m(self, rule)\u001b[0m\n\u001b[1;32m    301\u001b[0m commands \u001b[38;5;241m=\u001b[39m []\n\u001b[1;32m    303\u001b[0m \u001b[38;5;28;01mfor\u001b[39;00m token \u001b[38;5;129;01min\u001b[39;00m tokens:\n\u001b[0;32m--> 304\u001b[0m     cmd \u001b[38;5;241m=\u001b[39m \u001b[38;5;28;43mself\u001b[39;49m\u001b[38;5;241;43m.\u001b[39;49m\u001b[43mparse_token\u001b[49m\u001b[43m(\u001b[49m\u001b[43mtoken\u001b[49m\u001b[43m)\u001b[49m\n\u001b[1;32m    305\u001b[0m     \u001b[38;5;28;01mif\u001b[39;00m cmd:\n\u001b[1;32m    306\u001b[0m         commands\u001b[38;5;241m.\u001b[39mappend(cmd)\n",
      "File \u001b[0;32m~/ssd_storage/python/arcprize2025/sources/core/dsl_symbolic_interpreter.py:408\u001b[0m, in \u001b[0;36mSymbolicRuleParser.parse_token\u001b[0;34m(self, token)\u001b[0m\n\u001b[1;32m    405\u001b[0m         \u001b[38;5;28mself\u001b[39m\u001b[38;5;241m.\u001b[39mlogger\u001b[38;5;241m.\u001b[39mdebug(\u001b[38;5;124mf\u001b[39m\u001b[38;5;124m\"\u001b[39m\u001b[38;5;124mFinal params for \u001b[39m\u001b[38;5;124m'\u001b[39m\u001b[38;5;132;01m{\u001b[39;00mfinal_op_name\u001b[38;5;132;01m}\u001b[39;00m\u001b[38;5;124m'\u001b[39m\u001b[38;5;124m: \u001b[39m\u001b[38;5;132;01m{\u001b[39;00mprocessed_params\u001b[38;5;132;01m}\u001b[39;00m\u001b[38;5;124m\"\u001b[39m)\n\u001b[1;32m    406\u001b[0m         \u001b[38;5;28;01mreturn\u001b[39;00m \u001b[38;5;28mself\u001b[39m\u001b[38;5;241m.\u001b[39mfactory\u001b[38;5;241m.\u001b[39mcreate_operation(final_op_name, \u001b[38;5;241m*\u001b[39m\u001b[38;5;241m*\u001b[39mprocessed_params)\n\u001b[0;32m--> 408\u001b[0m \u001b[38;5;28;01mraise\u001b[39;00m \u001b[38;5;167;01mValueError\u001b[39;00m(\u001b[38;5;124mf\u001b[39m\u001b[38;5;124m\"\u001b[39m\u001b[38;5;124mCould not parse symbolic token: \u001b[39m\u001b[38;5;124m'\u001b[39m\u001b[38;5;132;01m{\u001b[39;00mtoken\u001b[38;5;132;01m}\u001b[39;00m\u001b[38;5;124m'\u001b[39m\u001b[38;5;124m\"\u001b[39m)\n",
      "\u001b[0;31mValueError\u001b[0m: Could not parse symbolic token: '⇒(I,∅)'"
     ]
    }
   ],
   "source": [
    "from core.dsl_symbolic_interpreter import SymbolicRuleParser\n",
    "\n",
    "parser = SymbolicRuleParser()\n",
    "command = parser.parse_rule(rule)\n",
    "\n",
    "# # Execute the command\n"
   ]
  },
  {
   "cell_type": "code",
   "execution_count": 99,
   "metadata": {
    "metadata": {}
   },
   "outputs": [
    {
     "data": {
      "text/plain": [
       "0.0"
      ]
     },
     "execution_count": 99,
     "metadata": {},
     "output_type": "execute_result"
    }
   ],
   "source": [
    "result = command.execute(np.array(example_0[\"input\"]))\n",
    "compare = result == np.array(example_0[\"output\"])\n",
    "sum(sum(compare))/ compare.shape[0] / compare.shape[1] \n"
   ]
  },
  {
   "cell_type": "code",
   "execution_count": 96,
   "metadata": {
    "metadata": {}
   },
   "outputs": [
    {
     "name": "stdout",
     "output_type": "stream",
     "text": [
      "\n",
      "--- Evaluating Rule: '↱I' for Puzzle ID: 009d5c81 ---\n",
      "\n",
      "--- Training Examples Evaluation ---\n",
      "\n",
      "--- Training Example 0 ---\n",
      "Input Grid:\n",
      "[[0, 0, 0, 0, 0, 0, 0, 8, 8, 0, 0, 0, 0, 0],\n",
      " [0, 0, 0, 0, 0, 0, 0, 0, 8, 8, 8, 0, 0, 0],\n",
      " [0, 0, 0, 0, 0, 0, 0, 0, 0, 0, 8, 0, 8, 0],\n",
      " [0, 0, 0, 0, 0, 8, 8, 8, 8, 0, 8, 8, 8, 0],\n",
      " [0, 0, 0, 0, 8, 8, 0, 0, 8, 8, 8, 0, 8, 8],\n",
      " [0, 0, 0, 0, 0, 0, 0, 8, 8, 0, 0, 0, 8, 0],\n",
      " [0, 0, 0, 0, 0, 0, 8, 8, 0, 0, 0, 8, 8, 0],\n",
      " [0, 0, 0, 0, 0, 0, 0, 0, 0, 8, 8, 8, 0, 0],\n",
      " [0, 0, 0, 0, 0, 0, 0, 0, 0, 0, 0, 0, 0, 0],\n",
      " [0, 0, 0, 0, 0, 0, 0, 0, 0, 0, 0, 0, 0, 0],\n",
      " [0, 0, 0, 0, 1, 1, 1, 0, 0, 0, 0, 0, 0, 0],\n",
      " [0, 0, 0, 0, 1, 0, 1, 0, 0, 0, 0, 0, 0, 0],\n",
      " [0, 0, 0, 0, 0, 1, 0, 0, 0, 0, 0, 0, 0, 0],\n",
      " [0, 0, 0, 0, 0, 0, 0, 0, 0, 0, 0, 0, 0, 0]]\n",
      "Expected Output Grid:\n",
      "[[0, 0, 0, 0, 0, 0, 0, 7, 7, 0, 0, 0, 0, 0],\n",
      " [0, 0, 0, 0, 0, 0, 0, 0, 7, 7, 7, 0, 0, 0],\n",
      " [0, 0, 0, 0, 0, 0, 0, 0, 0, 0, 7, 0, 7, 0],\n",
      " [0, 0, 0, 0, 0, 7, 7, 7, 7, 0, 7, 7, 7, 0],\n",
      " [0, 0, 0, 0, 7, 7, 0, 0, 7, 7, 7, 0, 7, 7],\n",
      " [0, 0, 0, 0, 0, 0, 0, 7, 7, 0, 0, 0, 7, 0],\n",
      " [0, 0, 0, 0, 0, 0, 7, 7, 0, 0, 0, 7, 7, 0],\n",
      " [0, 0, 0, 0, 0, 0, 0, 0, 0, 7, 7, 7, 0, 0],\n",
      " [0, 0, 0, 0, 0, 0, 0, 0, 0, 0, 0, 0, 0, 0],\n",
      " [0, 0, 0, 0, 0, 0, 0, 0, 0, 0, 0, 0, 0, 0],\n",
      " [0, 0, 0, 0, 0, 0, 0, 0, 0, 0, 0, 0, 0, 0],\n",
      " [0, 0, 0, 0, 0, 0, 0, 0, 0, 0, 0, 0, 0, 0],\n",
      " [0, 0, 0, 0, 0, 0, 0, 0, 0, 0, 0, 0, 0, 0],\n",
      " [0, 0, 0, 0, 0, 0, 0, 0, 0, 0, 0, 0, 0, 0]]\n",
      "Training Example 0 Score: 0.0000 (Shape mismatch: Expected (14, 14), Got (1, 1))\n",
      "Generated Output Grid:\n",
      "[[1]]\n",
      "\n",
      "--- Training Example 1 ---\n",
      "Input Grid:\n",
      "[[0, 0, 0, 0, 0, 0, 0, 0, 0, 0, 0, 0, 0, 0],\n",
      " [0, 0, 0, 0, 0, 0, 0, 0, 0, 0, 0, 0, 0, 0],\n",
      " [0, 0, 0, 0, 8, 8, 0, 8, 0, 8, 8, 0, 0, 0],\n",
      " [0, 0, 0, 0, 8, 0, 8, 0, 8, 0, 8, 0, 0, 0],\n",
      " [0, 0, 0, 0, 8, 8, 0, 8, 0, 8, 8, 0, 0, 0],\n",
      " [0, 0, 0, 0, 0, 0, 0, 0, 0, 0, 0, 0, 0, 0],\n",
      " [0, 0, 0, 0, 0, 0, 0, 0, 0, 0, 0, 0, 0, 0],\n",
      " [0, 0, 0, 0, 0, 0, 0, 0, 0, 0, 0, 0, 0, 0],\n",
      " [0, 0, 0, 0, 0, 0, 0, 0, 0, 0, 0, 0, 0, 0],\n",
      " [0, 0, 0, 0, 0, 0, 0, 0, 0, 0, 0, 0, 0, 0],\n",
      " [0, 0, 0, 1, 0, 1, 0, 0, 0, 0, 0, 0, 0, 0],\n",
      " [0, 0, 0, 0, 1, 0, 0, 0, 0, 0, 0, 0, 0, 0],\n",
      " [0, 0, 0, 1, 1, 1, 0, 0, 0, 0, 0, 0, 0, 0],\n",
      " [0, 0, 0, 0, 0, 0, 0, 0, 0, 0, 0, 0, 0, 0]]\n",
      "Expected Output Grid:\n",
      "[[0, 0, 0, 0, 0, 0, 0, 0, 0, 0, 0, 0, 0, 0],\n",
      " [0, 0, 0, 0, 0, 0, 0, 0, 0, 0, 0, 0, 0, 0],\n",
      " [0, 0, 0, 0, 3, 3, 0, 3, 0, 3, 3, 0, 0, 0],\n",
      " [0, 0, 0, 0, 3, 0, 3, 0, 3, 0, 3, 0, 0, 0],\n",
      " [0, 0, 0, 0, 3, 3, 0, 3, 0, 3, 3, 0, 0, 0],\n",
      " [0, 0, 0, 0, 0, 0, 0, 0, 0, 0, 0, 0, 0, 0],\n",
      " [0, 0, 0, 0, 0, 0, 0, 0, 0, 0, 0, 0, 0, 0],\n",
      " [0, 0, 0, 0, 0, 0, 0, 0, 0, 0, 0, 0, 0, 0],\n",
      " [0, 0, 0, 0, 0, 0, 0, 0, 0, 0, 0, 0, 0, 0],\n",
      " [0, 0, 0, 0, 0, 0, 0, 0, 0, 0, 0, 0, 0, 0],\n",
      " [0, 0, 0, 0, 0, 0, 0, 0, 0, 0, 0, 0, 0, 0],\n",
      " [0, 0, 0, 0, 0, 0, 0, 0, 0, 0, 0, 0, 0, 0],\n",
      " [0, 0, 0, 0, 0, 0, 0, 0, 0, 0, 0, 0, 0, 0],\n",
      " [0, 0, 0, 0, 0, 0, 0, 0, 0, 0, 0, 0, 0, 0]]\n",
      "Training Example 1 Score: 0.0000 (Shape mismatch: Expected (14, 14), Got (1, 1))\n",
      "Generated Output Grid:\n",
      "[[1]]\n",
      "\n",
      "--- Training Example 2 ---\n",
      "Input Grid:\n",
      "[[0, 0, 0, 8, 0, 0, 0, 8, 0, 0, 0, 0, 0, 0],\n",
      " [0, 8, 0, 8, 0, 8, 0, 8, 0, 8, 0, 0, 0, 0],\n",
      " [0, 8, 8, 8, 8, 8, 8, 8, 8, 8, 0, 0, 0, 0],\n",
      " [0, 8, 0, 8, 0, 8, 0, 8, 0, 8, 0, 0, 0, 0],\n",
      " [0, 8, 0, 0, 0, 8, 0, 0, 0, 8, 0, 0, 0, 0],\n",
      " [0, 0, 0, 0, 0, 0, 0, 0, 0, 0, 0, 0, 0, 0],\n",
      " [0, 0, 0, 0, 0, 0, 0, 0, 0, 0, 0, 0, 0, 0],\n",
      " [0, 0, 0, 0, 0, 0, 0, 0, 0, 0, 0, 0, 0, 0],\n",
      " [0, 0, 0, 0, 0, 0, 0, 0, 0, 0, 0, 0, 0, 0],\n",
      " [0, 0, 0, 0, 0, 0, 0, 0, 1, 0, 0, 0, 0, 0],\n",
      " [0, 0, 0, 0, 0, 0, 0, 1, 1, 1, 0, 0, 0, 0],\n",
      " [0, 0, 0, 0, 0, 0, 0, 0, 1, 0, 0, 0, 0, 0],\n",
      " [0, 0, 0, 0, 0, 0, 0, 0, 0, 0, 0, 0, 0, 0],\n",
      " [0, 0, 0, 0, 0, 0, 0, 0, 0, 0, 0, 0, 0, 0]]\n",
      "Expected Output Grid:\n",
      "[[0, 0, 0, 2, 0, 0, 0, 2, 0, 0, 0, 0, 0, 0],\n",
      " [0, 2, 0, 2, 0, 2, 0, 2, 0, 2, 0, 0, 0, 0],\n",
      " [0, 2, 2, 2, 2, 2, 2, 2, 2, 2, 0, 0, 0, 0],\n",
      " [0, 2, 0, 2, 0, 2, 0, 2, 0, 2, 0, 0, 0, 0],\n",
      " [0, 2, 0, 0, 0, 2, 0, 0, 0, 2, 0, 0, 0, 0],\n",
      " [0, 0, 0, 0, 0, 0, 0, 0, 0, 0, 0, 0, 0, 0],\n",
      " [0, 0, 0, 0, 0, 0, 0, 0, 0, 0, 0, 0, 0, 0],\n",
      " [0, 0, 0, 0, 0, 0, 0, 0, 0, 0, 0, 0, 0, 0],\n",
      " [0, 0, 0, 0, 0, 0, 0, 0, 0, 0, 0, 0, 0, 0],\n",
      " [0, 0, 0, 0, 0, 0, 0, 0, 0, 0, 0, 0, 0, 0],\n",
      " [0, 0, 0, 0, 0, 0, 0, 0, 0, 0, 0, 0, 0, 0],\n",
      " [0, 0, 0, 0, 0, 0, 0, 0, 0, 0, 0, 0, 0, 0],\n",
      " [0, 0, 0, 0, 0, 0, 0, 0, 0, 0, 0, 0, 0, 0],\n",
      " [0, 0, 0, 0, 0, 0, 0, 0, 0, 0, 0, 0, 0, 0]]\n",
      "Training Example 2 Score: 0.0000 (Shape mismatch: Expected (14, 14), Got (1, 1))\n",
      "Generated Output Grid:\n",
      "[[1]]\n",
      "\n",
      "--- Training Example 3 ---\n",
      "Input Grid:\n",
      "[[0, 0, 0, 0, 0, 0, 0, 0, 0, 0, 0, 0, 0, 0],\n",
      " [0, 0, 0, 0, 0, 0, 0, 0, 8, 0, 0, 0, 0, 0],\n",
      " [0, 0, 0, 0, 0, 8, 8, 8, 0, 8, 8, 0, 0, 0],\n",
      " [0, 0, 0, 0, 0, 0, 8, 0, 8, 8, 0, 0, 0, 0],\n",
      " [0, 0, 0, 0, 0, 0, 0, 8, 0, 0, 8, 8, 0, 0],\n",
      " [0, 0, 0, 0, 0, 0, 0, 0, 8, 8, 0, 8, 0, 0],\n",
      " [0, 0, 0, 0, 0, 0, 0, 0, 0, 0, 8, 0, 0, 0],\n",
      " [0, 0, 0, 0, 0, 0, 0, 0, 0, 0, 0, 0, 0, 0],\n",
      " [0, 0, 1, 0, 1, 0, 0, 0, 0, 0, 0, 0, 0, 0],\n",
      " [0, 0, 0, 1, 0, 0, 0, 0, 0, 0, 0, 0, 0, 0],\n",
      " [0, 0, 1, 1, 1, 0, 0, 0, 0, 0, 0, 0, 0, 0],\n",
      " [0, 0, 0, 0, 0, 0, 0, 0, 0, 0, 0, 0, 0, 0],\n",
      " [0, 0, 0, 0, 0, 0, 0, 0, 0, 0, 0, 0, 0, 0],\n",
      " [0, 0, 0, 0, 0, 0, 0, 0, 0, 0, 0, 0, 0, 0]]\n",
      "Expected Output Grid:\n",
      "[[0, 0, 0, 0, 0, 0, 0, 0, 0, 0, 0, 0, 0, 0],\n",
      " [0, 0, 0, 0, 0, 0, 0, 0, 3, 0, 0, 0, 0, 0],\n",
      " [0, 0, 0, 0, 0, 3, 3, 3, 0, 3, 3, 0, 0, 0],\n",
      " [0, 0, 0, 0, 0, 0, 3, 0, 3, 3, 0, 0, 0, 0],\n",
      " [0, 0, 0, 0, 0, 0, 0, 3, 0, 0, 3, 3, 0, 0],\n",
      " [0, 0, 0, 0, 0, 0, 0, 0, 3, 3, 0, 3, 0, 0],\n",
      " [0, 0, 0, 0, 0, 0, 0, 0, 0, 0, 3, 0, 0, 0],\n",
      " [0, 0, 0, 0, 0, 0, 0, 0, 0, 0, 0, 0, 0, 0],\n",
      " [0, 0, 0, 0, 0, 0, 0, 0, 0, 0, 0, 0, 0, 0],\n",
      " [0, 0, 0, 0, 0, 0, 0, 0, 0, 0, 0, 0, 0, 0],\n",
      " [0, 0, 0, 0, 0, 0, 0, 0, 0, 0, 0, 0, 0, 0],\n",
      " [0, 0, 0, 0, 0, 0, 0, 0, 0, 0, 0, 0, 0, 0],\n",
      " [0, 0, 0, 0, 0, 0, 0, 0, 0, 0, 0, 0, 0, 0],\n",
      " [0, 0, 0, 0, 0, 0, 0, 0, 0, 0, 0, 0, 0, 0]]\n",
      "Training Example 3 Score: 0.0000 (Shape mismatch: Expected (14, 14), Got (1, 1))\n",
      "Generated Output Grid:\n",
      "[[1]]\n",
      "\n",
      "--- Training Example 4 ---\n",
      "Input Grid:\n",
      "[[0, 0, 0, 0, 0, 0, 0, 0, 0, 0, 0, 0, 0, 0],\n",
      " [0, 0, 0, 0, 0, 0, 0, 8, 8, 0, 8, 8, 0, 0],\n",
      " [0, 0, 0, 0, 0, 0, 0, 0, 8, 8, 8, 0, 0, 0],\n",
      " [0, 0, 0, 0, 0, 8, 8, 8, 8, 0, 0, 0, 0, 0],\n",
      " [0, 0, 0, 0, 8, 8, 0, 8, 0, 0, 8, 8, 0, 0],\n",
      " [0, 0, 0, 0, 0, 0, 0, 8, 8, 8, 8, 0, 0, 0],\n",
      " [0, 0, 0, 0, 0, 0, 0, 0, 8, 0, 8, 0, 0, 0],\n",
      " [0, 0, 0, 0, 0, 0, 8, 8, 8, 0, 8, 8, 8, 0],\n",
      " [0, 0, 0, 0, 0, 0, 8, 0, 0, 0, 0, 0, 8, 0],\n",
      " [0, 0, 1, 0, 0, 0, 0, 0, 0, 0, 0, 0, 0, 0],\n",
      " [0, 1, 1, 1, 0, 0, 0, 0, 0, 0, 0, 0, 0, 0],\n",
      " [0, 0, 1, 0, 0, 0, 0, 0, 0, 0, 0, 0, 0, 0],\n",
      " [0, 0, 0, 0, 0, 0, 0, 0, 0, 0, 0, 0, 0, 0],\n",
      " [0, 0, 0, 0, 0, 0, 0, 0, 0, 0, 0, 0, 0, 0]]\n",
      "Expected Output Grid:\n",
      "[[0, 0, 0, 0, 0, 0, 0, 0, 0, 0, 0, 0, 0, 0],\n",
      " [0, 0, 0, 0, 0, 0, 0, 2, 2, 0, 2, 2, 0, 0],\n",
      " [0, 0, 0, 0, 0, 0, 0, 0, 2, 2, 2, 0, 0, 0],\n",
      " [0, 0, 0, 0, 0, 2, 2, 2, 2, 0, 0, 0, 0, 0],\n",
      " [0, 0, 0, 0, 2, 2, 0, 2, 0, 0, 2, 2, 0, 0],\n",
      " [0, 0, 0, 0, 0, 0, 0, 2, 2, 2, 2, 0, 0, 0],\n",
      " [0, 0, 0, 0, 0, 0, 0, 0, 2, 0, 2, 0, 0, 0],\n",
      " [0, 0, 0, 0, 0, 0, 2, 2, 2, 0, 2, 2, 2, 0],\n",
      " [0, 0, 0, 0, 0, 0, 2, 0, 0, 0, 0, 0, 2, 0],\n",
      " [0, 0, 0, 0, 0, 0, 0, 0, 0, 0, 0, 0, 0, 0],\n",
      " [0, 0, 0, 0, 0, 0, 0, 0, 0, 0, 0, 0, 0, 0],\n",
      " [0, 0, 0, 0, 0, 0, 0, 0, 0, 0, 0, 0, 0, 0],\n",
      " [0, 0, 0, 0, 0, 0, 0, 0, 0, 0, 0, 0, 0, 0],\n",
      " [0, 0, 0, 0, 0, 0, 0, 0, 0, 0, 0, 0, 0, 0]]\n",
      "Training Example 4 Score: 0.0000 (Shape mismatch: Expected (14, 14), Got (1, 1))\n",
      "Generated Output Grid:\n",
      "[[1]]\n"
     ]
    }
   ],
   "source": [
    "print(f\"\\n--- Evaluating Rule: '{rule}' for Puzzle ID: {puzzle_id} ---\")\n",
    "\n",
    "print(\"\\n--- Training Examples Evaluation ---\")\n",
    "for i, example in enumerate(puzzle[\"train\"]):\n",
    "    input_grid_np = np.array(example[\"input\"], dtype=int)\n",
    "    output_grid_np = np.array(example[\"output\"], dtype=int)\n",
    "\n",
    "    score = 0.0\n",
    "    result = None # Initialize result to None\n",
    "\n",
    "    print(f\"\\n--- Training Example {i} ---\")\n",
    "    print(\"Input Grid:\")\n",
    "    pprint(input_grid_np.tolist())\n",
    "    print(\"Expected Output Grid:\")\n",
    "    pprint(output_grid_np.tolist())\n",
    "\n",
    "    try:\n",
    "        # These are the three lines you requested, slightly adapted for loop\n",
    "        command = parser.parse_rule(rule) # Parse rule for each execution or outside if command can be reused\n",
    "        result = command.execute(input_grid_np)\n",
    "        \n",
    "        if result.shape == output_grid_np.shape:\n",
    "            compare = result == output_grid_np\n",
    "            score = np.sum(compare) / (output_grid_np.shape[0] * output_grid_np.shape[1])\n",
    "            print(f\"Training Example {i} Score: {score:.4f}\")\n",
    "        else:\n",
    "            print(f\"Training Example {i} Score: 0.0000 (Shape mismatch: Expected {output_grid_np.shape}, Got {result.shape})\")\n",
    "            \n",
    "    except Exception as e:\n",
    "        print(f\"Training Example {i} Score: 0.0000 (Error: {e})\")\n",
    "        print(f\"Parsing/Execution Error: {e}\") # Print the specific error for debugging\n",
    "\n",
    "    if result is not None:\n",
    "        print(\"Generated Output Grid:\")\n",
    "        pprint(result.tolist())\n",
    "    else:\n",
    "        print(\"No Generated Output Grid (due to error or parse failure).\")"
   ]
  },
  {
   "cell_type": "code",
   "execution_count": 83,
   "metadata": {
    "metadata": {}
   },
   "outputs": [
    {
     "name": "stdout",
     "output_type": "stream",
     "text": [
      "\n",
      "All training examples passed for puzzle '007bbfb7'. Saving rule.\n",
      "Warning: Existing JSON file at /home/yann/ssd_storage/python/arcprize2025/sources/assets/SYMB_A.json is empty or malformed. Starting fresh.\n",
      "Solution for puzzle '007bbfb7' saved successfully to /home/yann/ssd_storage/python/arcprize2025/sources/assets/SYMB_A.json\n"
     ]
    }
   ],
   "source": [
    "# print(f\"\\nAll training examples passed for puzzle '{puzzle_id}'. Saving rule.\")\n",
    "# save_solution_to_json(puzzle_id, rule, solved_puzzles_json_path)"
   ]
  },
  {
   "cell_type": "code",
   "execution_count": null,
   "metadata": {},
   "outputs": [],
   "source": []
  }
 ],
 "metadata": {
  "kernelspec": {
   "display_name": "Python 3",
   "language": "python",
   "name": "python3"
  },
  "language_info": {
   "codemirror_mode": {
    "name": "ipython",
    "version": 3
   },
   "file_extension": ".py",
   "mimetype": "text/x-python",
   "name": "python",
   "nbconvert_exporter": "python",
   "pygments_lexer": "ipython3",
   "version": "3.12.7"
  }
 },
 "nbformat": 4,
 "nbformat_minor": 2
}
