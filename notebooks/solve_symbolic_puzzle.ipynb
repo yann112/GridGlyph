{
 "cells": [
  {
   "cell_type": "code",
   "execution_count": null,
   "metadata": {},
   "outputs": [],
   "source": []
  },
  {
   "cell_type": "code",
   "execution_count": 1,
   "metadata": {
    "metadata": {}
   },
   "outputs": [
    {
     "name": "stderr",
     "output_type": "stream",
     "text": [
      "/usr/lib/python3.12/site-packages/tqdm/auto.py:21: TqdmWarning: IProgress not found. Please update jupyter and ipywidgets. See https://ipywidgets.readthedocs.io/en/stable/user_install.html\n",
      "  from .autonotebook import tqdm as notebook_tqdm\n"
     ]
    }
   ],
   "source": [
    "import sys\n",
    "import os\n",
    "from pathlib import Path\n",
    "from dotenv import load_dotenv\n",
    "from pprint import pprint\n",
    "\n",
    "# Load environment variables from .env\n",
    "load_dotenv()\n",
    "# Add src folder to path\n",
    "project_root = Path.cwd().parent  # assumes notebook is in child folder\n",
    "src_path = project_root / \"sources\"\n",
    "sys.path.append(str(src_path))\n",
    "from core.llm import OpenRouterClient\n",
    "from utils.generate_dsl_docs import generate_symbolic_dsl_reference_markdown\n",
    "from agents.agents_utils import MultiGridFeatureCollector, SymbolicGridMapper"
   ]
  },
  {
   "cell_type": "code",
   "execution_count": 2,
   "metadata": {
    "metadata": {}
   },
   "outputs": [],
   "source": [
    "import json\n",
    "from pathlib import Path\n",
    "\n",
    "def save_solution_to_json(puzzle_id: str, rule: str, file_path: str):\n",
    "    \"\"\"\n",
    "    Saves a solved puzzle's rule to a JSON file.\n",
    "\n",
    "    Parameters:\n",
    "    - puzzle_id: The ID of the puzzle (e.g., \"000d3fb3\").\n",
    "    - rule: The DSL rule string that solves the puzzle.\n",
    "    - file_path: The path to the JSON file where solutions are stored.\n",
    "    \"\"\"\n",
    "    # Ensure the directory exists\n",
    "    Path(file_path).parent.mkdir(parents=True, exist_ok=True)\n",
    "\n",
    "    solutions = {}\n",
    "    if Path(file_path).exists():\n",
    "        try:\n",
    "            # IMPORTANT CHANGE 1: Specify encoding='utf-8' for reading\n",
    "            with open(file_path, 'r', encoding='utf-8') as f:\n",
    "                solutions = json.load(f)\n",
    "        except json.JSONDecodeError:\n",
    "            print(f\"Warning: Existing JSON file at {file_path} is empty or malformed. Starting fresh.\")\n",
    "            solutions = {}\n",
    "        except FileNotFoundError:\n",
    "            # This handles a rare case where the file exists but somehow becomes unavailable right before opening\n",
    "            print(f\"Warning: File not found at {file_path} despite existence check. Starting fresh.\")\n",
    "            solutions = {}\n",
    "\n",
    "\n",
    "    solutions[puzzle_id] = rule\n",
    "\n",
    "    with open(file_path, 'w', encoding='utf-8') as f:\n",
    "        json.dump(solutions, f, indent=4, ensure_ascii=False)\n",
    "    print(f\"Solution for puzzle '{puzzle_id}' saved successfully to {file_path}\")"
   ]
  },
  {
   "cell_type": "code",
   "execution_count": 3,
   "metadata": {
    "metadata": {}
   },
   "outputs": [],
   "source": [
    "# json_file = \"/workspaces/arcprize2025/datas/arc-agi_training_challenges.json\"\n",
    "# json_file = r\"C:\\Users\\UT00YBG3\\Documents\\arcprize2025\\datas\\arc-agi_training_challenges.json\"\n",
    "json_file = \"/home/yann/ssd_storage/python/arcprize2025/datas/arc-agi_training_challenges.json\"\n",
    "solved_puzzles_json_path = \"/home/yann/ssd_storage/python/arcprize2025/sources/assets/SYMB_A.json\""
   ]
  },
  {
   "cell_type": "code",
   "execution_count": 4,
   "metadata": {
    "metadata": {}
   },
   "outputs": [],
   "source": [
    "import json\n",
    "import matplotlib.pyplot as plt\n",
    "import numpy as np\n",
    "import matplotlib.colors as mcolors\n",
    "\n",
    "def plot_grid(grid, title=\"\"):\n",
    "    \"\"\"\n",
    "    Plots a single 2D grid using matplotlib.\n",
    "    \n",
    "    Parameters:\n",
    "    - grid: List of lists of integers.\n",
    "    - title: Optional title for the plot.\n",
    "    \"\"\"\n",
    "    my_custom_color_list = [\n",
    "        '#000000', # 0: Black (background)\n",
    "        '#FFD700', # 1: Gold (for 'レ' / I)\n",
    "        '#00FFFF', # 2: Cyan (for target 'II')\n",
    "        '#FF4500', # 3: OrangeRed (for target 'III')\n",
    "        '#800080', # 4: Purple (example unused color)\n",
    "        '#00FF00', # 5: Lime Green (example unused color)\n",
    "        '#FFFF00', # 6: Yellow (example unused color)\n",
    "        '#32CD32', # 7: LimeGreen (for target 'VII') - ensure distinct from 5\n",
    "        '#0000FF', # 8: Blue (for 'ハ' / VIII) - explicitly requested\n",
    "        '#FFC0CB'  # 9: Pink (example unused color)\n",
    "        ]\n",
    "    my_custom_cmap = mcolors.ListedColormap(my_custom_color_list)\n",
    "    grid_array = np.array(grid)\n",
    "    plt.figure(figsize=(2, 2))\n",
    "    plt.imshow(grid_array, cmap=my_custom_cmap, interpolation='nearest', vmin=0, vmax=9)\n",
    "    plt.title(title)\n",
    "    plt.axis('off')\n",
    "    plt.show()"
   ]
  },
  {
   "cell_type": "code",
   "execution_count": null,
   "metadata": {},
   "outputs": [],
   "source": []
  },
  {
   "cell_type": "code",
   "execution_count": 5,
   "metadata": {
    "metadata": {}
   },
   "outputs": [
    {
     "name": "stdout",
     "output_type": "stream",
     "text": [
      "--- Training Example 0 ---\n"
     ]
    },
    {
     "data": {
      "image/png": "[encoded data removed]",
      "text/plain": [
       "<Figure size 200x200 with 1 Axes>"
      ]
     },
     "metadata": {},
     "output_type": "display_data"
    },
    {
     "name": "stdout",
     "output_type": "stream",
     "text": [
      "[[0, 0, 0, 0, 0, 0, 0, 0, 0],\n",
      " [0, 8, 8, 8, 8, 8, 0, 0, 0],\n",
      " [0, 8, 0, 0, 0, 0, 8, 0, 0],\n",
      " [0, 0, 8, 0, 0, 0, 0, 8, 0],\n",
      " [0, 0, 0, 8, 0, 0, 0, 0, 8],\n",
      " [0, 0, 0, 0, 8, 8, 8, 8, 8],\n",
      " [0, 0, 0, 0, 0, 0, 0, 0, 0],\n",
      " [0, 0, 0, 0, 0, 0, 0, 0, 0]]\n"
     ]
    },
    {
     "data": {
      "image/png": "[encoded data removed]",
      "text/plain": [
       "<Figure size 200x200 with 1 Axes>"
      ]
     },
     "metadata": {},
     "output_type": "display_data"
    },
    {
     "name": "stdout",
     "output_type": "stream",
     "text": [
      "[[0, 0, 0, 0, 0, 0, 0, 0, 0],\n",
      " [0, 0, 8, 8, 8, 8, 8, 0, 0],\n",
      " [0, 0, 8, 0, 0, 0, 0, 8, 0],\n",
      " [0, 0, 0, 8, 0, 0, 0, 0, 8],\n",
      " [0, 0, 0, 0, 8, 0, 0, 0, 8],\n",
      " [0, 0, 0, 0, 8, 8, 8, 8, 8],\n",
      " [0, 0, 0, 0, 0, 0, 0, 0, 0],\n",
      " [0, 0, 0, 0, 0, 0, 0, 0, 0]]\n",
      "--- Training Example 1 ---\n"
     ]
    },
    {
     "data": {
      "image/png": "[encoded data removed]",
      "text/plain": [
       "<Figure size 200x200 with 1 Axes>"
      ]
     },
     "metadata": {},
     "output_type": "display_data"
    },
    {
     "name": "stdout",
     "output_type": "stream",
     "text": [
      "[[0, 0, 0, 0, 0, 0, 0, 0, 0],\n",
      " [0, 6, 6, 6, 0, 0, 0, 0, 0],\n",
      " [0, 6, 0, 0, 6, 0, 0, 0, 0],\n",
      " [0, 0, 6, 0, 0, 6, 0, 0, 0],\n",
      " [0, 0, 0, 6, 0, 0, 6, 0, 0],\n",
      " [0, 0, 0, 0, 6, 6, 6, 0, 0],\n",
      " [0, 0, 0, 0, 0, 0, 0, 0, 0],\n",
      " [0, 0, 2, 2, 2, 0, 0, 0, 0],\n",
      " [0, 0, 2, 0, 0, 2, 0, 0, 0],\n",
      " [0, 0, 0, 2, 2, 2, 0, 0, 0],\n",
      " [0, 0, 0, 0, 0, 0, 0, 0, 0],\n",
      " [0, 0, 0, 0, 0, 0, 0, 0, 0],\n",
      " [0, 0, 0, 0, 0, 0, 0, 0, 0],\n",
      " [0, 0, 0, 0, 0, 0, 0, 0, 0]]\n"
     ]
    },
    {
     "data": {
      "image/png": "[encoded data removed]",
      "text/plain": [
       "<Figure size 200x200 with 1 Axes>"
      ]
     },
     "metadata": {},
     "output_type": "display_data"
    },
    {
     "name": "stdout",
     "output_type": "stream",
     "text": [
      "[[0, 0, 0, 0, 0, 0, 0, 0, 0],\n",
      " [0, 0, 6, 6, 6, 0, 0, 0, 0],\n",
      " [0, 0, 6, 0, 0, 6, 0, 0, 0],\n",
      " [0, 0, 0, 6, 0, 0, 6, 0, 0],\n",
      " [0, 0, 0, 0, 6, 0, 6, 0, 0],\n",
      " [0, 0, 0, 0, 6, 6, 6, 0, 0],\n",
      " [0, 0, 0, 0, 0, 0, 0, 0, 0],\n",
      " [0, 0, 0, 2, 2, 2, 0, 0, 0],\n",
      " [0, 0, 0, 2, 0, 2, 0, 0, 0],\n",
      " [0, 0, 0, 2, 2, 2, 0, 0, 0],\n",
      " [0, 0, 0, 0, 0, 0, 0, 0, 0],\n",
      " [0, 0, 0, 0, 0, 0, 0, 0, 0],\n",
      " [0, 0, 0, 0, 0, 0, 0, 0, 0],\n",
      " [0, 0, 0, 0, 0, 0, 0, 0, 0]]\n",
      "--- Test Example 0 ---\n"
     ]
    },
    {
     "data": {
      "image/png": "[encoded data removed]",
      "text/plain": [
       "<Figure size 200x200 with 1 Axes>"
      ]
     },
     "metadata": {},
     "output_type": "display_data"
    }
   ],
   "source": [
    "n=6\n",
    "\n",
    "\n",
    "with open(json_file, 'r') as file:\n",
    "    data = json.load(file)\n",
    "\n",
    "data.keys()\n",
    "list_number = list(data.keys())\n",
    "puzzle_id = list_number[n]\n",
    "puzzle = data[puzzle_id]\n",
    "\n",
    "# Loop to plot all input/output pairs\n",
    "for i, example in enumerate(puzzle[\"train\"]):\n",
    "    print(f\"--- Training Example {i} ---\")\n",
    "    plot_grid(example[\"input\"], title=f\"Training Input {i}\")\n",
    "    pprint(example[\"input\"])\n",
    "    plot_grid(example[\"output\"], title=f\"Training Output {i}\")\n",
    "    pprint(example[\"output\"])\n",
    "\n",
    "\n",
    "for i, example in enumerate(puzzle[\"test\"]):\n",
    "    print(f\"--- Test Example {i} ---\")\n",
    "    plot_grid(example[\"input\"], title=f\"Test Input {i}\")\n"
   ]
  },
  {
   "cell_type": "code",
   "execution_count": null,
   "metadata": {
    "metadata": {}
   },
   "outputs": [],
   "source": [
    "mapper = SymbolicGridMapper()\n",
    "symbolic_variants = mapper.generate_variants(puzzle, symbol_set_ids=[\"katakana_bk\"])\n",
    "symbolics_grids = mapper.format_variants_list(symbolic_variants)\n",
    "doc_sigil = generate_symbolic_dsl_reference_markdown()\n"
   ]
  },
  {
   "cell_type": "code",
   "execution_count": null,
   "metadata": {
    "metadata": {}
   },
   "outputs": [],
   "source": [
    "import sys\n",
    "sys.path.append(str(Path(\"/home/yann/ssd_storage/python/arcprize2025/tests/\"))) \n",
    "sys.path.append(str(Path(\"/home/yann/ssd_storage/python/arcprize2025/sources/\"))) \n",
    "from test_dsl_symbolic_executor import TEST_CASES\n",
    "from assets.symbols import ROM_VAL_MAP"
   ]
  },
  {
   "cell_type": "code",
   "execution_count": null,
   "metadata": {
    "metadata": {}
   },
   "outputs": [],
   "source": [
    "\n",
    "\n",
    "prompt = f\"\"\"\n",
    "You are an advanced AI specializing in synthesizing solutions for Abstraction and Reasoning Corpus (ARC) puzzles.\n",
    "\n",
    "---\n",
    "**Task:**\n",
    "Your primary task is to discover and formulate a *single, generalizable DSL rule* that transforms the given `input_grid` into the corresponding `output_grid` for *all* provided examples.\n",
    "\n",
    "---\n",
    "Valid test cases:\n",
    "{TEST_CASES}\n",
    "\n",
    "2.  **Input-Output Grid Examples:**\n",
    "    This section provides a set of `(input_grid, output_grid)` pairs. Your synthesized rule must correctly generalize to all of them.\n",
    "    {symbolics_grids}\n",
    "\n",
    "---\n",
    "**Rule Requirements:**\n",
    "* The rule must be expressed as a **single symbolic DSL string**.\n",
    "* It must use only the commands specified in the provided DSL documentation.\n",
    "* It must be concise and represent a **generalizable transformation**, not just a specific solution for one example.\n",
    "* It must only contains roman no numbers this is the mapping:\n",
    "{ROM_VAL_MAP}\n",
    "*  this symbols must be map to roman to  from 0 to 9: \"symbols\": [\"∅\", \"レ\", \"ハ\", \"ア\", \"ヤ\", \"ユ\", \"ヨ\", \"キ\", \"ク\", \"ケ\"]\n",
    "---\n",
    "**Strategy (Recommended):**\n",
    "1.  Carefully analyze each `input_grid` and its corresponding `output_grid`.\n",
    "2.  Identify the core transformation logic: What changes? What stays the same? Are there patterns of color changes, shape manipulations, positional shifts, or structural compositions?\n",
    "3.  Consider how available DSL commands can be combined or parameterized to achieve this observed transformation.\n",
    "4.  Formulate the most concise and general DSL string that applies to *all* provided examples.\n",
    "\n",
    "---\n",
    "**Output Format:**\n",
    "Please provide the DSL rule string.\n",
    "\"\"\""
   ]
  },
  {
   "cell_type": "code",
   "execution_count": null,
   "metadata": {
    "metadata": {}
   },
   "outputs": [],
   "source": [
    "print(prompt)"
   ]
  },
  {
   "cell_type": "code",
   "execution_count": null,
   "metadata": {
    "metadata": {}
   },
   "outputs": [],
   "source": [
    "rule = \"\"\"∨(⏚(∅), ⓑ(◎(III)))\"\"\"\n"
   ]
  },
  {
   "cell_type": "code",
   "execution_count": null,
   "metadata": {
    "metadata": {}
   },
   "outputs": [],
   "source": [
    "from core.dsl_symbolic_interpreter import SymbolicRuleParser\n",
    "from core.dsl_symbolic_executor import DSLExecutor\n",
    "\n",
    "parser = SymbolicRuleParser()"
   ]
  },
  {
   "cell_type": "code",
   "execution_count": null,
   "metadata": {
    "metadata": {}
   },
   "outputs": [],
   "source": [
    "\n"
   ]
  },
  {
   "cell_type": "code",
   "execution_count": null,
   "metadata": {
    "metadata": {}
   },
   "outputs": [],
   "source": [
    "print(f\"\\n--- Evaluating Rule: '{rule}' for Puzzle ID: {puzzle_id} ---\")\n",
    "\n",
    "print(\"\\n--- Training Examples Evaluation ---\")\n",
    "for i, example in enumerate(puzzle[\"train\"]):\n",
    "    input_grid_np = np.array(example[\"input\"], dtype=int)\n",
    "    output_grid_np = np.array(example[\"output\"], dtype=int)\n",
    "\n",
    "    score = 0.0\n",
    "    result = None # Initialize result to None\n",
    "\n",
    "    print(f\"\\n--- Training Example {i} ---\")\n",
    "    print(\"Input Grid:\")\n",
    "    pprint(input_grid_np.tolist())\n",
    "    print(\"Expected Output Grid:\")\n",
    "    pprint(output_grid_np.tolist())\n",
    "\n",
    "    try:\n",
    "        command = parser.parse_rule(rule) \n",
    "        executor = DSLExecutor(\n",
    "            root_command=command,\n",
    "            initial_puzzle_input=input_grid_np,\n",
    "        )\n",
    "        result= executor.execute_program()\n",
    "        \n",
    "        if result.shape == output_grid_np.shape:\n",
    "            compare = result == output_grid_np\n",
    "            score = np.sum(compare) / (output_grid_np.shape[0] * output_grid_np.shape[1])\n",
    "            print(f\"Training Example {i} Score: {score:.4f}\")\n",
    "        else:\n",
    "            print(f\"Training Example {i} Score: 0.0000 (Shape mismatch: Expected {output_grid_np.shape}, Got {result.shape})\")\n",
    "            \n",
    "    except Exception as e:\n",
    "        print(f\"Training Example {i} Score: 0.0000 (Error: {e})\")\n",
    "        print(f\"Parsing/Execution Error: {e}\") # Print the specific error for debugging\n",
    "\n",
    "    if result is not None:\n",
    "        print(\"Generated Output Grid:\")\n",
    "        pprint(result.tolist())\n",
    "    else:\n",
    "        print(\"No Generated Output Grid (due to error or parse failure).\")"
   ]
  },
  {
   "cell_type": "code",
   "execution_count": null,
   "metadata": {
    "metadata": {}
   },
   "outputs": [],
   "source": [
    "# print(f\"\\nAll training examples passed for puzzle '{puzzle_id}'. Saving rule.\")\n",
    "# save_solution_to_json(puzzle_id, rule, solved_puzzles_json_path)"
   ]
  },
  {
   "cell_type": "code",
   "execution_count": null,
   "metadata": {},
   "outputs": [],
   "source": []
  },
  {
   "cell_type": "code",
   "execution_count": null,
   "metadata": {
    "metadata": {}
   },
   "outputs": [],
   "source": []
  },
  {
   "cell_type": "code",
   "execution_count": null,
   "metadata": {
    "metadata": {}
   },
   "outputs": [],
   "source": []
  },
  {
   "cell_type": "code",
   "execution_count": null,
   "metadata": {},
   "outputs": [],
   "source": []
  }
 ],
 "metadata": {
  "kernelspec": {
   "display_name": "Python 3",
   "language": "python",
   "name": "python3"
  },
  "language_info": {
   "codemirror_mode": {
    "name": "ipython",
    "version": 3
   },
   "file_extension": ".py",
   "mimetype": "text/x-python",
   "name": "python",
   "nbconvert_exporter": "python",
   "pygments_lexer": "ipython3",
   "version": "3.12.7"
  }
 },
 "nbformat": 4,
 "nbformat_minor": 2
}
